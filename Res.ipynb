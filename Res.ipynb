{
 "cells": [
  {
   "cell_type": "code",
   "execution_count": null,
   "metadata": {},
   "outputs": [],
   "source": []
  },
  {
   "cell_type": "code",
   "execution_count": null,
   "metadata": {},
   "outputs": [],
   "source": []
  },
  {
   "cell_type": "code",
   "execution_count": 1,
   "metadata": {},
   "outputs": [],
   "source": [
    "import pandas as pd\n",
    "import numpy as np\n",
    "import seaborn as sns\n",
    "import matplotlib\n",
    "\n",
    "import matplotlib.pyplot as plt\n",
    "from scipy.stats import skew\n",
    "from scipy.stats.stats import pearsonr\n",
    "\n",
    "from scipy.special import boxcox1p\n",
    "from scipy.stats import boxcox_normmax\n",
    "from sklearn.preprocessing import StandardScaler , RobustScaler\n",
    "from sklearn.metrics import r2_score , mean_absolute_error\n",
    "from sklearn.linear_model import Ridge, RidgeCV, Lasso, LassoCV\n",
    "from sklearn.model_selection import train_test_split\n",
    "from sklearn.linear_model import LinearRegression , ElasticNetCV\n",
    "from sklearn.model_selection import cross_val_score\n",
    "from sklearn.metrics import mean_squared_error\n",
    "from sklearn.utils import shuffle\n",
    "\n",
    "\n",
    "from sklearn.tree import DecisionTreeRegressor\n",
    "from sklearn.ensemble import RandomForestRegressor\n",
    "from xgboost import XGBRegressor\n",
    "\n",
    "from keras.layers import Dense\n",
    "from keras.models import Sequential\n",
    "from keras.regularizers import l1\n",
    "from sklearn.model_selection import GridSearchCV\n",
    "from sklearn.preprocessing import RobustScaler\n",
    "from sklearn.model_selection import KFold\n",
    "from sklearn.svm import SVR\n",
    "\n",
    "import warnings\n",
    "warnings.filterwarnings('ignore')\n",
    "%matplotlib inline\n"
   ]
  },
  {
   "cell_type": "code",
   "execution_count": 2,
   "metadata": {},
   "outputs": [],
   "source": [
    "# \n",
    "#set seed for productivity of the project\n",
    "SEED = 2021\n",
    "def seed(SEED=SEED):\n",
    "    import os\n",
    "    np.random.seed = SEED\n",
    "    os.environ['PYTHONHASHSEED'] = str(SEED)\n",
    "    \n",
    "seed()"
   ]
  },
  {
   "cell_type": "code",
   "execution_count": 3,
   "metadata": {},
   "outputs": [],
   "source": [
    "# read the datasets\n",
    "train = pd.read_csv(\"./data/train.csv\")\n",
    "test = pd.read_csv(\"./data/test.csv\")"
   ]
  },
  {
   "cell_type": "code",
   "execution_count": 4,
   "metadata": {},
   "outputs": [
    {
     "data": {
      "text/plain": [
       "((1460, 81), (1459, 80))"
      ]
     },
     "execution_count": 4,
     "metadata": {},
     "output_type": "execute_result"
    }
   ],
   "source": [
    "# check the shape of each dataset\n",
    "train.shape , test.shape"
   ]
  },
  {
   "cell_type": "markdown",
   "metadata": {},
   "source": [
    "#### We are mainly going to focus on only training set.\n",
    "- This is because our main aim is to be able to check out how different models score"
   ]
  },
  {
   "cell_type": "code",
   "execution_count": 5,
   "metadata": {},
   "outputs": [
    {
     "data": {
      "text/html": [
       "<div>\n",
       "<style scoped>\n",
       "    .dataframe tbody tr th:only-of-type {\n",
       "        vertical-align: middle;\n",
       "    }\n",
       "\n",
       "    .dataframe tbody tr th {\n",
       "        vertical-align: top;\n",
       "    }\n",
       "\n",
       "    .dataframe thead th {\n",
       "        text-align: right;\n",
       "    }\n",
       "</style>\n",
       "<table border=\"1\" class=\"dataframe\">\n",
       "  <thead>\n",
       "    <tr style=\"text-align: right;\">\n",
       "      <th></th>\n",
       "      <th>Id</th>\n",
       "      <th>MSSubClass</th>\n",
       "      <th>MSZoning</th>\n",
       "      <th>LotFrontage</th>\n",
       "      <th>LotArea</th>\n",
       "      <th>Street</th>\n",
       "      <th>Alley</th>\n",
       "      <th>LotShape</th>\n",
       "      <th>LandContour</th>\n",
       "      <th>Utilities</th>\n",
       "      <th>...</th>\n",
       "      <th>PoolArea</th>\n",
       "      <th>PoolQC</th>\n",
       "      <th>Fence</th>\n",
       "      <th>MiscFeature</th>\n",
       "      <th>MiscVal</th>\n",
       "      <th>MoSold</th>\n",
       "      <th>YrSold</th>\n",
       "      <th>SaleType</th>\n",
       "      <th>SaleCondition</th>\n",
       "      <th>SalePrice</th>\n",
       "    </tr>\n",
       "  </thead>\n",
       "  <tbody>\n",
       "    <tr>\n",
       "      <th>0</th>\n",
       "      <td>1</td>\n",
       "      <td>60</td>\n",
       "      <td>RL</td>\n",
       "      <td>65.0</td>\n",
       "      <td>8450</td>\n",
       "      <td>Pave</td>\n",
       "      <td>NaN</td>\n",
       "      <td>Reg</td>\n",
       "      <td>Lvl</td>\n",
       "      <td>AllPub</td>\n",
       "      <td>...</td>\n",
       "      <td>0</td>\n",
       "      <td>NaN</td>\n",
       "      <td>NaN</td>\n",
       "      <td>NaN</td>\n",
       "      <td>0</td>\n",
       "      <td>2</td>\n",
       "      <td>2008</td>\n",
       "      <td>WD</td>\n",
       "      <td>Normal</td>\n",
       "      <td>208500</td>\n",
       "    </tr>\n",
       "    <tr>\n",
       "      <th>1</th>\n",
       "      <td>2</td>\n",
       "      <td>20</td>\n",
       "      <td>RL</td>\n",
       "      <td>80.0</td>\n",
       "      <td>9600</td>\n",
       "      <td>Pave</td>\n",
       "      <td>NaN</td>\n",
       "      <td>Reg</td>\n",
       "      <td>Lvl</td>\n",
       "      <td>AllPub</td>\n",
       "      <td>...</td>\n",
       "      <td>0</td>\n",
       "      <td>NaN</td>\n",
       "      <td>NaN</td>\n",
       "      <td>NaN</td>\n",
       "      <td>0</td>\n",
       "      <td>5</td>\n",
       "      <td>2007</td>\n",
       "      <td>WD</td>\n",
       "      <td>Normal</td>\n",
       "      <td>181500</td>\n",
       "    </tr>\n",
       "    <tr>\n",
       "      <th>2</th>\n",
       "      <td>3</td>\n",
       "      <td>60</td>\n",
       "      <td>RL</td>\n",
       "      <td>68.0</td>\n",
       "      <td>11250</td>\n",
       "      <td>Pave</td>\n",
       "      <td>NaN</td>\n",
       "      <td>IR1</td>\n",
       "      <td>Lvl</td>\n",
       "      <td>AllPub</td>\n",
       "      <td>...</td>\n",
       "      <td>0</td>\n",
       "      <td>NaN</td>\n",
       "      <td>NaN</td>\n",
       "      <td>NaN</td>\n",
       "      <td>0</td>\n",
       "      <td>9</td>\n",
       "      <td>2008</td>\n",
       "      <td>WD</td>\n",
       "      <td>Normal</td>\n",
       "      <td>223500</td>\n",
       "    </tr>\n",
       "    <tr>\n",
       "      <th>3</th>\n",
       "      <td>4</td>\n",
       "      <td>70</td>\n",
       "      <td>RL</td>\n",
       "      <td>60.0</td>\n",
       "      <td>9550</td>\n",
       "      <td>Pave</td>\n",
       "      <td>NaN</td>\n",
       "      <td>IR1</td>\n",
       "      <td>Lvl</td>\n",
       "      <td>AllPub</td>\n",
       "      <td>...</td>\n",
       "      <td>0</td>\n",
       "      <td>NaN</td>\n",
       "      <td>NaN</td>\n",
       "      <td>NaN</td>\n",
       "      <td>0</td>\n",
       "      <td>2</td>\n",
       "      <td>2006</td>\n",
       "      <td>WD</td>\n",
       "      <td>Abnorml</td>\n",
       "      <td>140000</td>\n",
       "    </tr>\n",
       "    <tr>\n",
       "      <th>4</th>\n",
       "      <td>5</td>\n",
       "      <td>60</td>\n",
       "      <td>RL</td>\n",
       "      <td>84.0</td>\n",
       "      <td>14260</td>\n",
       "      <td>Pave</td>\n",
       "      <td>NaN</td>\n",
       "      <td>IR1</td>\n",
       "      <td>Lvl</td>\n",
       "      <td>AllPub</td>\n",
       "      <td>...</td>\n",
       "      <td>0</td>\n",
       "      <td>NaN</td>\n",
       "      <td>NaN</td>\n",
       "      <td>NaN</td>\n",
       "      <td>0</td>\n",
       "      <td>12</td>\n",
       "      <td>2008</td>\n",
       "      <td>WD</td>\n",
       "      <td>Normal</td>\n",
       "      <td>250000</td>\n",
       "    </tr>\n",
       "  </tbody>\n",
       "</table>\n",
       "<p>5 rows × 81 columns</p>\n",
       "</div>"
      ],
      "text/plain": [
       "   Id  MSSubClass MSZoning  LotFrontage  LotArea Street Alley LotShape  \\\n",
       "0   1          60       RL         65.0     8450   Pave   NaN      Reg   \n",
       "1   2          20       RL         80.0     9600   Pave   NaN      Reg   \n",
       "2   3          60       RL         68.0    11250   Pave   NaN      IR1   \n",
       "3   4          70       RL         60.0     9550   Pave   NaN      IR1   \n",
       "4   5          60       RL         84.0    14260   Pave   NaN      IR1   \n",
       "\n",
       "  LandContour Utilities  ... PoolArea PoolQC Fence MiscFeature MiscVal MoSold  \\\n",
       "0         Lvl    AllPub  ...        0    NaN   NaN         NaN       0      2   \n",
       "1         Lvl    AllPub  ...        0    NaN   NaN         NaN       0      5   \n",
       "2         Lvl    AllPub  ...        0    NaN   NaN         NaN       0      9   \n",
       "3         Lvl    AllPub  ...        0    NaN   NaN         NaN       0      2   \n",
       "4         Lvl    AllPub  ...        0    NaN   NaN         NaN       0     12   \n",
       "\n",
       "  YrSold  SaleType  SaleCondition  SalePrice  \n",
       "0   2008        WD         Normal     208500  \n",
       "1   2007        WD         Normal     181500  \n",
       "2   2008        WD         Normal     223500  \n",
       "3   2006        WD        Abnorml     140000  \n",
       "4   2008        WD         Normal     250000  \n",
       "\n",
       "[5 rows x 81 columns]"
      ]
     },
     "execution_count": 5,
     "metadata": {},
     "output_type": "execute_result"
    }
   ],
   "source": [
    "train.head()"
   ]
  },
  {
   "cell_type": "code",
   "execution_count": 6,
   "metadata": {},
   "outputs": [],
   "source": [
    "# get a copy of training set\n",
    "df = train.copy()"
   ]
  },
  {
   "cell_type": "code",
   "execution_count": 7,
   "metadata": {},
   "outputs": [
    {
     "name": "stdout",
     "output_type": "stream",
     "text": [
      "Number of Duplicates: 0\n"
     ]
    }
   ],
   "source": [
    "# number of duplicates in the dataset\n",
    "print('Number of Duplicates:', len(df[df.duplicated()]))"
   ]
  },
  {
   "cell_type": "code",
   "execution_count": 8,
   "metadata": {},
   "outputs": [
    {
     "name": "stdout",
     "output_type": "stream",
     "text": [
      "Number of missing Values: 6965\n"
     ]
    }
   ],
   "source": [
    "# number of Nulls values\n",
    "print('Number of missing Values:', df.isnull().sum().sum())"
   ]
  },
  {
   "cell_type": "code",
   "execution_count": 9,
   "metadata": {},
   "outputs": [],
   "source": [
    "# sns.displot(df['YearRemodAdd'])"
   ]
  },
  {
   "cell_type": "code",
   "execution_count": 10,
   "metadata": {},
   "outputs": [
    {
     "name": "stdout",
     "output_type": "stream",
     "text": [
      "Missing values by percentage for each column for top 25\n"
     ]
    },
    {
     "data": {
      "text/plain": [
       "PoolQC          0.995205\n",
       "MiscFeature     0.963014\n",
       "Alley           0.937671\n",
       "Fence           0.807534\n",
       "FireplaceQu     0.472603\n",
       "LotFrontage     0.177397\n",
       "GarageYrBlt     0.055479\n",
       "GarageCond      0.055479\n",
       "GarageType      0.055479\n",
       "GarageFinish    0.055479\n",
       "GarageQual      0.055479\n",
       "BsmtFinType2    0.026027\n",
       "BsmtExposure    0.026027\n",
       "BsmtQual        0.025342\n",
       "BsmtCond        0.025342\n",
       "BsmtFinType1    0.025342\n",
       "MasVnrArea      0.005479\n",
       "MasVnrType      0.005479\n",
       "Electrical      0.000685\n",
       "Id              0.000000\n",
       "Functional      0.000000\n",
       "Fireplaces      0.000000\n",
       "KitchenQual     0.000000\n",
       "KitchenAbvGr    0.000000\n",
       "BedroomAbvGr    0.000000\n",
       "dtype: float64"
      ]
     },
     "execution_count": 10,
     "metadata": {},
     "output_type": "execute_result"
    }
   ],
   "source": [
    "# since we have missing values let check the percentage fot each columns\n",
    "\n",
    "print(\"Missing values by percentage for each column for top 25\")\n",
    "df.isnull().sum().sort_values(ascending=False).head(25)/df.shape[0]"
   ]
  },
  {
   "cell_type": "markdown",
   "metadata": {},
   "source": [
    "## Observation\n",
    "- We can be able to see that some columns have even over 99% nulls\n",
    "- We need to come up with a strategy for dealing with these values\n",
    "- Depending on the on the column description we are going to decide on the method\n",
    "- Some of the columns are going to be filled with `NONE` as from variable descriptions\n",
    "- Other columns will be filled with model or other strategy\n",
    "\n",
    "\n",
    "- Columns to be filled with NONE include;\n",
    "    - MiscFeature\n",
    "    - FireplaceQu\n",
    "    - Alley\n",
    "    - Fence\n",
    "    - PoolQC\n",
    "- Data description says that having a NaN in these columns suggests that they doesn't have the value of that column."
   ]
  },
  {
   "cell_type": "code",
   "execution_count": 11,
   "metadata": {},
   "outputs": [],
   "source": [
    "df['MiscFeature'] = df['MiscFeature'].fillna('None')\n",
    "df['Alley'] = df['Alley'].fillna('None')\n",
    "df['FireplaceQu'] = df['FireplaceQu'].fillna('None')\n",
    "df['Fence'] = df['Fence'].fillna('None')\n",
    "df['PoolQC'] = df['PoolQC'].fillna('None')"
   ]
  },
  {
   "cell_type": "code",
   "execution_count": 12,
   "metadata": {},
   "outputs": [],
   "source": [
    "# we are going to use median for LotFrontage and MSZoning\n",
    "df['LotFrontage'] = df.groupby('Neighborhood')['LotFrontage'].transform(lambda i: i.fillna(i.median()))\n",
    "df['MSZoning'] = df.groupby('Neighborhood')['MSZoning'].transform(lambda i: i.fillna(i.value_counts().index[0]))"
   ]
  },
  {
   "cell_type": "code",
   "execution_count": 13,
   "metadata": {},
   "outputs": [
    {
     "data": {
      "text/plain": [
       "GarageYrBlt     81\n",
       "GarageCond      81\n",
       "GarageFinish    81\n",
       "GarageQual      81\n",
       "GarageType      81\n",
       "BsmtExposure    38\n",
       "BsmtFinType2    38\n",
       "BsmtCond        37\n",
       "BsmtFinType1    37\n",
       "BsmtQual        37\n",
       "dtype: int64"
      ]
     },
     "execution_count": 13,
     "metadata": {},
     "output_type": "execute_result"
    }
   ],
   "source": [
    "# check what is the missing values remaining\n",
    "df.isnull().sum().sort_values(ascending=False).head(10)"
   ]
  },
  {
   "cell_type": "markdown",
   "metadata": {},
   "source": [
    "### THE REST NULLS\n",
    "- The rest of the columns are going to be filled with mode strategy "
   ]
  },
  {
   "cell_type": "code",
   "execution_count": 14,
   "metadata": {},
   "outputs": [],
   "source": [
    "#use mode methods \n",
    "df = df.fillna(df.mode().iloc[0])"
   ]
  },
  {
   "cell_type": "code",
   "execution_count": 15,
   "metadata": {},
   "outputs": [
    {
     "data": {
      "text/plain": [
       "Id             0\n",
       "CentralAir     0\n",
       "GarageYrBlt    0\n",
       "GarageType     0\n",
       "FireplaceQu    0\n",
       "dtype: int64"
      ]
     },
     "execution_count": 15,
     "metadata": {},
     "output_type": "execute_result"
    }
   ],
   "source": [
    "# check if there is any other method\n",
    "df.isnull().sum().sort_values(ascending=False).head(5)"
   ]
  },
  {
   "cell_type": "code",
   "execution_count": 16,
   "metadata": {},
   "outputs": [],
   "source": [
    "# create some features i.e Total floors\n",
    "# total quality , bathrooms etc\n",
    "df['Total_House_floors'] = df['TotalBsmtSF'] + df['1stFlrSF'] + df['2ndFlrSF']\n",
    "df['Total_Home_Quality'] = (df['OverallQual'] + df['OverallCond'])/2\n",
    "df['Total_Bathrooms'] = (df['FullBath'] + (0.5 * df['HalfBath']) + df['BsmtFullBath'] + (0.5 * df['BsmtHalfBath']))"
   ]
  },
  {
   "cell_type": "code",
   "execution_count": 17,
   "metadata": {},
   "outputs": [
    {
     "data": {
      "text/html": [
       "<div>\n",
       "<style scoped>\n",
       "    .dataframe tbody tr th:only-of-type {\n",
       "        vertical-align: middle;\n",
       "    }\n",
       "\n",
       "    .dataframe tbody tr th {\n",
       "        vertical-align: top;\n",
       "    }\n",
       "\n",
       "    .dataframe thead th {\n",
       "        text-align: right;\n",
       "    }\n",
       "</style>\n",
       "<table border=\"1\" class=\"dataframe\">\n",
       "  <thead>\n",
       "    <tr style=\"text-align: right;\">\n",
       "      <th></th>\n",
       "      <th>count</th>\n",
       "      <th>mean</th>\n",
       "      <th>std</th>\n",
       "      <th>min</th>\n",
       "      <th>25%</th>\n",
       "      <th>50%</th>\n",
       "      <th>75%</th>\n",
       "      <th>max</th>\n",
       "    </tr>\n",
       "  </thead>\n",
       "  <tbody>\n",
       "    <tr>\n",
       "      <th>Id</th>\n",
       "      <td>1460.0</td>\n",
       "      <td>730.500000</td>\n",
       "      <td>421.610009</td>\n",
       "      <td>1.0</td>\n",
       "      <td>365.75</td>\n",
       "      <td>730.5</td>\n",
       "      <td>1095.25</td>\n",
       "      <td>1460.0</td>\n",
       "    </tr>\n",
       "    <tr>\n",
       "      <th>MSSubClass</th>\n",
       "      <td>1460.0</td>\n",
       "      <td>56.897260</td>\n",
       "      <td>42.300571</td>\n",
       "      <td>20.0</td>\n",
       "      <td>20.00</td>\n",
       "      <td>50.0</td>\n",
       "      <td>70.00</td>\n",
       "      <td>190.0</td>\n",
       "    </tr>\n",
       "    <tr>\n",
       "      <th>LotFrontage</th>\n",
       "      <td>1460.0</td>\n",
       "      <td>70.199658</td>\n",
       "      <td>22.431902</td>\n",
       "      <td>21.0</td>\n",
       "      <td>60.00</td>\n",
       "      <td>70.0</td>\n",
       "      <td>80.00</td>\n",
       "      <td>313.0</td>\n",
       "    </tr>\n",
       "    <tr>\n",
       "      <th>LotArea</th>\n",
       "      <td>1460.0</td>\n",
       "      <td>10516.828082</td>\n",
       "      <td>9981.264932</td>\n",
       "      <td>1300.0</td>\n",
       "      <td>7553.50</td>\n",
       "      <td>9478.5</td>\n",
       "      <td>11601.50</td>\n",
       "      <td>215245.0</td>\n",
       "    </tr>\n",
       "    <tr>\n",
       "      <th>OverallQual</th>\n",
       "      <td>1460.0</td>\n",
       "      <td>6.099315</td>\n",
       "      <td>1.382997</td>\n",
       "      <td>1.0</td>\n",
       "      <td>5.00</td>\n",
       "      <td>6.0</td>\n",
       "      <td>7.00</td>\n",
       "      <td>10.0</td>\n",
       "    </tr>\n",
       "    <tr>\n",
       "      <th>OverallCond</th>\n",
       "      <td>1460.0</td>\n",
       "      <td>5.575342</td>\n",
       "      <td>1.112799</td>\n",
       "      <td>1.0</td>\n",
       "      <td>5.00</td>\n",
       "      <td>5.0</td>\n",
       "      <td>6.00</td>\n",
       "      <td>9.0</td>\n",
       "    </tr>\n",
       "    <tr>\n",
       "      <th>YearBuilt</th>\n",
       "      <td>1460.0</td>\n",
       "      <td>1971.267808</td>\n",
       "      <td>30.202904</td>\n",
       "      <td>1872.0</td>\n",
       "      <td>1954.00</td>\n",
       "      <td>1973.0</td>\n",
       "      <td>2000.00</td>\n",
       "      <td>2010.0</td>\n",
       "    </tr>\n",
       "    <tr>\n",
       "      <th>YearRemodAdd</th>\n",
       "      <td>1460.0</td>\n",
       "      <td>1984.865753</td>\n",
       "      <td>20.645407</td>\n",
       "      <td>1950.0</td>\n",
       "      <td>1967.00</td>\n",
       "      <td>1994.0</td>\n",
       "      <td>2004.00</td>\n",
       "      <td>2010.0</td>\n",
       "    </tr>\n",
       "    <tr>\n",
       "      <th>MasVnrArea</th>\n",
       "      <td>1460.0</td>\n",
       "      <td>103.117123</td>\n",
       "      <td>180.731373</td>\n",
       "      <td>0.0</td>\n",
       "      <td>0.00</td>\n",
       "      <td>0.0</td>\n",
       "      <td>164.25</td>\n",
       "      <td>1600.0</td>\n",
       "    </tr>\n",
       "    <tr>\n",
       "      <th>BsmtFinSF1</th>\n",
       "      <td>1460.0</td>\n",
       "      <td>443.639726</td>\n",
       "      <td>456.098091</td>\n",
       "      <td>0.0</td>\n",
       "      <td>0.00</td>\n",
       "      <td>383.5</td>\n",
       "      <td>712.25</td>\n",
       "      <td>5644.0</td>\n",
       "    </tr>\n",
       "    <tr>\n",
       "      <th>BsmtFinSF2</th>\n",
       "      <td>1460.0</td>\n",
       "      <td>46.549315</td>\n",
       "      <td>161.319273</td>\n",
       "      <td>0.0</td>\n",
       "      <td>0.00</td>\n",
       "      <td>0.0</td>\n",
       "      <td>0.00</td>\n",
       "      <td>1474.0</td>\n",
       "    </tr>\n",
       "    <tr>\n",
       "      <th>BsmtUnfSF</th>\n",
       "      <td>1460.0</td>\n",
       "      <td>567.240411</td>\n",
       "      <td>441.866955</td>\n",
       "      <td>0.0</td>\n",
       "      <td>223.00</td>\n",
       "      <td>477.5</td>\n",
       "      <td>808.00</td>\n",
       "      <td>2336.0</td>\n",
       "    </tr>\n",
       "    <tr>\n",
       "      <th>TotalBsmtSF</th>\n",
       "      <td>1460.0</td>\n",
       "      <td>1057.429452</td>\n",
       "      <td>438.705324</td>\n",
       "      <td>0.0</td>\n",
       "      <td>795.75</td>\n",
       "      <td>991.5</td>\n",
       "      <td>1298.25</td>\n",
       "      <td>6110.0</td>\n",
       "    </tr>\n",
       "    <tr>\n",
       "      <th>1stFlrSF</th>\n",
       "      <td>1460.0</td>\n",
       "      <td>1162.626712</td>\n",
       "      <td>386.587738</td>\n",
       "      <td>334.0</td>\n",
       "      <td>882.00</td>\n",
       "      <td>1087.0</td>\n",
       "      <td>1391.25</td>\n",
       "      <td>4692.0</td>\n",
       "    </tr>\n",
       "    <tr>\n",
       "      <th>2ndFlrSF</th>\n",
       "      <td>1460.0</td>\n",
       "      <td>346.992466</td>\n",
       "      <td>436.528436</td>\n",
       "      <td>0.0</td>\n",
       "      <td>0.00</td>\n",
       "      <td>0.0</td>\n",
       "      <td>728.00</td>\n",
       "      <td>2065.0</td>\n",
       "    </tr>\n",
       "    <tr>\n",
       "      <th>LowQualFinSF</th>\n",
       "      <td>1460.0</td>\n",
       "      <td>5.844521</td>\n",
       "      <td>48.623081</td>\n",
       "      <td>0.0</td>\n",
       "      <td>0.00</td>\n",
       "      <td>0.0</td>\n",
       "      <td>0.00</td>\n",
       "      <td>572.0</td>\n",
       "    </tr>\n",
       "    <tr>\n",
       "      <th>GrLivArea</th>\n",
       "      <td>1460.0</td>\n",
       "      <td>1515.463699</td>\n",
       "      <td>525.480383</td>\n",
       "      <td>334.0</td>\n",
       "      <td>1129.50</td>\n",
       "      <td>1464.0</td>\n",
       "      <td>1776.75</td>\n",
       "      <td>5642.0</td>\n",
       "    </tr>\n",
       "    <tr>\n",
       "      <th>BsmtFullBath</th>\n",
       "      <td>1460.0</td>\n",
       "      <td>0.425342</td>\n",
       "      <td>0.518911</td>\n",
       "      <td>0.0</td>\n",
       "      <td>0.00</td>\n",
       "      <td>0.0</td>\n",
       "      <td>1.00</td>\n",
       "      <td>3.0</td>\n",
       "    </tr>\n",
       "    <tr>\n",
       "      <th>BsmtHalfBath</th>\n",
       "      <td>1460.0</td>\n",
       "      <td>0.057534</td>\n",
       "      <td>0.238753</td>\n",
       "      <td>0.0</td>\n",
       "      <td>0.00</td>\n",
       "      <td>0.0</td>\n",
       "      <td>0.00</td>\n",
       "      <td>2.0</td>\n",
       "    </tr>\n",
       "    <tr>\n",
       "      <th>FullBath</th>\n",
       "      <td>1460.0</td>\n",
       "      <td>1.565068</td>\n",
       "      <td>0.550916</td>\n",
       "      <td>0.0</td>\n",
       "      <td>1.00</td>\n",
       "      <td>2.0</td>\n",
       "      <td>2.00</td>\n",
       "      <td>3.0</td>\n",
       "    </tr>\n",
       "    <tr>\n",
       "      <th>HalfBath</th>\n",
       "      <td>1460.0</td>\n",
       "      <td>0.382877</td>\n",
       "      <td>0.502885</td>\n",
       "      <td>0.0</td>\n",
       "      <td>0.00</td>\n",
       "      <td>0.0</td>\n",
       "      <td>1.00</td>\n",
       "      <td>2.0</td>\n",
       "    </tr>\n",
       "    <tr>\n",
       "      <th>BedroomAbvGr</th>\n",
       "      <td>1460.0</td>\n",
       "      <td>2.866438</td>\n",
       "      <td>0.815778</td>\n",
       "      <td>0.0</td>\n",
       "      <td>2.00</td>\n",
       "      <td>3.0</td>\n",
       "      <td>3.00</td>\n",
       "      <td>8.0</td>\n",
       "    </tr>\n",
       "    <tr>\n",
       "      <th>KitchenAbvGr</th>\n",
       "      <td>1460.0</td>\n",
       "      <td>1.046575</td>\n",
       "      <td>0.220338</td>\n",
       "      <td>0.0</td>\n",
       "      <td>1.00</td>\n",
       "      <td>1.0</td>\n",
       "      <td>1.00</td>\n",
       "      <td>3.0</td>\n",
       "    </tr>\n",
       "    <tr>\n",
       "      <th>TotRmsAbvGrd</th>\n",
       "      <td>1460.0</td>\n",
       "      <td>6.517808</td>\n",
       "      <td>1.625393</td>\n",
       "      <td>2.0</td>\n",
       "      <td>5.00</td>\n",
       "      <td>6.0</td>\n",
       "      <td>7.00</td>\n",
       "      <td>14.0</td>\n",
       "    </tr>\n",
       "    <tr>\n",
       "      <th>Fireplaces</th>\n",
       "      <td>1460.0</td>\n",
       "      <td>0.613014</td>\n",
       "      <td>0.644666</td>\n",
       "      <td>0.0</td>\n",
       "      <td>0.00</td>\n",
       "      <td>1.0</td>\n",
       "      <td>1.00</td>\n",
       "      <td>3.0</td>\n",
       "    </tr>\n",
       "    <tr>\n",
       "      <th>GarageYrBlt</th>\n",
       "      <td>1460.0</td>\n",
       "      <td>1979.976027</td>\n",
       "      <td>24.749688</td>\n",
       "      <td>1900.0</td>\n",
       "      <td>1962.00</td>\n",
       "      <td>1984.5</td>\n",
       "      <td>2003.00</td>\n",
       "      <td>2010.0</td>\n",
       "    </tr>\n",
       "    <tr>\n",
       "      <th>GarageCars</th>\n",
       "      <td>1460.0</td>\n",
       "      <td>1.767123</td>\n",
       "      <td>0.747315</td>\n",
       "      <td>0.0</td>\n",
       "      <td>1.00</td>\n",
       "      <td>2.0</td>\n",
       "      <td>2.00</td>\n",
       "      <td>4.0</td>\n",
       "    </tr>\n",
       "    <tr>\n",
       "      <th>GarageArea</th>\n",
       "      <td>1460.0</td>\n",
       "      <td>472.980137</td>\n",
       "      <td>213.804841</td>\n",
       "      <td>0.0</td>\n",
       "      <td>334.50</td>\n",
       "      <td>480.0</td>\n",
       "      <td>576.00</td>\n",
       "      <td>1418.0</td>\n",
       "    </tr>\n",
       "    <tr>\n",
       "      <th>WoodDeckSF</th>\n",
       "      <td>1460.0</td>\n",
       "      <td>94.244521</td>\n",
       "      <td>125.338794</td>\n",
       "      <td>0.0</td>\n",
       "      <td>0.00</td>\n",
       "      <td>0.0</td>\n",
       "      <td>168.00</td>\n",
       "      <td>857.0</td>\n",
       "    </tr>\n",
       "    <tr>\n",
       "      <th>OpenPorchSF</th>\n",
       "      <td>1460.0</td>\n",
       "      <td>46.660274</td>\n",
       "      <td>66.256028</td>\n",
       "      <td>0.0</td>\n",
       "      <td>0.00</td>\n",
       "      <td>25.0</td>\n",
       "      <td>68.00</td>\n",
       "      <td>547.0</td>\n",
       "    </tr>\n",
       "    <tr>\n",
       "      <th>EnclosedPorch</th>\n",
       "      <td>1460.0</td>\n",
       "      <td>21.954110</td>\n",
       "      <td>61.119149</td>\n",
       "      <td>0.0</td>\n",
       "      <td>0.00</td>\n",
       "      <td>0.0</td>\n",
       "      <td>0.00</td>\n",
       "      <td>552.0</td>\n",
       "    </tr>\n",
       "    <tr>\n",
       "      <th>3SsnPorch</th>\n",
       "      <td>1460.0</td>\n",
       "      <td>3.409589</td>\n",
       "      <td>29.317331</td>\n",
       "      <td>0.0</td>\n",
       "      <td>0.00</td>\n",
       "      <td>0.0</td>\n",
       "      <td>0.00</td>\n",
       "      <td>508.0</td>\n",
       "    </tr>\n",
       "    <tr>\n",
       "      <th>ScreenPorch</th>\n",
       "      <td>1460.0</td>\n",
       "      <td>15.060959</td>\n",
       "      <td>55.757415</td>\n",
       "      <td>0.0</td>\n",
       "      <td>0.00</td>\n",
       "      <td>0.0</td>\n",
       "      <td>0.00</td>\n",
       "      <td>480.0</td>\n",
       "    </tr>\n",
       "    <tr>\n",
       "      <th>PoolArea</th>\n",
       "      <td>1460.0</td>\n",
       "      <td>2.758904</td>\n",
       "      <td>40.177307</td>\n",
       "      <td>0.0</td>\n",
       "      <td>0.00</td>\n",
       "      <td>0.0</td>\n",
       "      <td>0.00</td>\n",
       "      <td>738.0</td>\n",
       "    </tr>\n",
       "    <tr>\n",
       "      <th>MiscVal</th>\n",
       "      <td>1460.0</td>\n",
       "      <td>43.489041</td>\n",
       "      <td>496.123024</td>\n",
       "      <td>0.0</td>\n",
       "      <td>0.00</td>\n",
       "      <td>0.0</td>\n",
       "      <td>0.00</td>\n",
       "      <td>15500.0</td>\n",
       "    </tr>\n",
       "    <tr>\n",
       "      <th>MoSold</th>\n",
       "      <td>1460.0</td>\n",
       "      <td>6.321918</td>\n",
       "      <td>2.703626</td>\n",
       "      <td>1.0</td>\n",
       "      <td>5.00</td>\n",
       "      <td>6.0</td>\n",
       "      <td>8.00</td>\n",
       "      <td>12.0</td>\n",
       "    </tr>\n",
       "    <tr>\n",
       "      <th>YrSold</th>\n",
       "      <td>1460.0</td>\n",
       "      <td>2007.815753</td>\n",
       "      <td>1.328095</td>\n",
       "      <td>2006.0</td>\n",
       "      <td>2007.00</td>\n",
       "      <td>2008.0</td>\n",
       "      <td>2009.00</td>\n",
       "      <td>2010.0</td>\n",
       "    </tr>\n",
       "    <tr>\n",
       "      <th>SalePrice</th>\n",
       "      <td>1460.0</td>\n",
       "      <td>180921.195890</td>\n",
       "      <td>79442.502883</td>\n",
       "      <td>34900.0</td>\n",
       "      <td>129975.00</td>\n",
       "      <td>163000.0</td>\n",
       "      <td>214000.00</td>\n",
       "      <td>755000.0</td>\n",
       "    </tr>\n",
       "    <tr>\n",
       "      <th>Total_House_floors</th>\n",
       "      <td>1460.0</td>\n",
       "      <td>2567.048630</td>\n",
       "      <td>821.714421</td>\n",
       "      <td>334.0</td>\n",
       "      <td>2009.50</td>\n",
       "      <td>2474.0</td>\n",
       "      <td>3004.00</td>\n",
       "      <td>11752.0</td>\n",
       "    </tr>\n",
       "    <tr>\n",
       "      <th>Total_Home_Quality</th>\n",
       "      <td>1460.0</td>\n",
       "      <td>5.837329</td>\n",
       "      <td>0.846764</td>\n",
       "      <td>1.0</td>\n",
       "      <td>5.50</td>\n",
       "      <td>6.0</td>\n",
       "      <td>6.50</td>\n",
       "      <td>9.5</td>\n",
       "    </tr>\n",
       "    <tr>\n",
       "      <th>Total_Bathrooms</th>\n",
       "      <td>1460.0</td>\n",
       "      <td>2.210616</td>\n",
       "      <td>0.785399</td>\n",
       "      <td>1.0</td>\n",
       "      <td>2.00</td>\n",
       "      <td>2.0</td>\n",
       "      <td>2.50</td>\n",
       "      <td>6.0</td>\n",
       "    </tr>\n",
       "  </tbody>\n",
       "</table>\n",
       "</div>"
      ],
      "text/plain": [
       "                     count           mean           std      min        25%  \\\n",
       "Id                  1460.0     730.500000    421.610009      1.0     365.75   \n",
       "MSSubClass          1460.0      56.897260     42.300571     20.0      20.00   \n",
       "LotFrontage         1460.0      70.199658     22.431902     21.0      60.00   \n",
       "LotArea             1460.0   10516.828082   9981.264932   1300.0    7553.50   \n",
       "OverallQual         1460.0       6.099315      1.382997      1.0       5.00   \n",
       "OverallCond         1460.0       5.575342      1.112799      1.0       5.00   \n",
       "YearBuilt           1460.0    1971.267808     30.202904   1872.0    1954.00   \n",
       "YearRemodAdd        1460.0    1984.865753     20.645407   1950.0    1967.00   \n",
       "MasVnrArea          1460.0     103.117123    180.731373      0.0       0.00   \n",
       "BsmtFinSF1          1460.0     443.639726    456.098091      0.0       0.00   \n",
       "BsmtFinSF2          1460.0      46.549315    161.319273      0.0       0.00   \n",
       "BsmtUnfSF           1460.0     567.240411    441.866955      0.0     223.00   \n",
       "TotalBsmtSF         1460.0    1057.429452    438.705324      0.0     795.75   \n",
       "1stFlrSF            1460.0    1162.626712    386.587738    334.0     882.00   \n",
       "2ndFlrSF            1460.0     346.992466    436.528436      0.0       0.00   \n",
       "LowQualFinSF        1460.0       5.844521     48.623081      0.0       0.00   \n",
       "GrLivArea           1460.0    1515.463699    525.480383    334.0    1129.50   \n",
       "BsmtFullBath        1460.0       0.425342      0.518911      0.0       0.00   \n",
       "BsmtHalfBath        1460.0       0.057534      0.238753      0.0       0.00   \n",
       "FullBath            1460.0       1.565068      0.550916      0.0       1.00   \n",
       "HalfBath            1460.0       0.382877      0.502885      0.0       0.00   \n",
       "BedroomAbvGr        1460.0       2.866438      0.815778      0.0       2.00   \n",
       "KitchenAbvGr        1460.0       1.046575      0.220338      0.0       1.00   \n",
       "TotRmsAbvGrd        1460.0       6.517808      1.625393      2.0       5.00   \n",
       "Fireplaces          1460.0       0.613014      0.644666      0.0       0.00   \n",
       "GarageYrBlt         1460.0    1979.976027     24.749688   1900.0    1962.00   \n",
       "GarageCars          1460.0       1.767123      0.747315      0.0       1.00   \n",
       "GarageArea          1460.0     472.980137    213.804841      0.0     334.50   \n",
       "WoodDeckSF          1460.0      94.244521    125.338794      0.0       0.00   \n",
       "OpenPorchSF         1460.0      46.660274     66.256028      0.0       0.00   \n",
       "EnclosedPorch       1460.0      21.954110     61.119149      0.0       0.00   \n",
       "3SsnPorch           1460.0       3.409589     29.317331      0.0       0.00   \n",
       "ScreenPorch         1460.0      15.060959     55.757415      0.0       0.00   \n",
       "PoolArea            1460.0       2.758904     40.177307      0.0       0.00   \n",
       "MiscVal             1460.0      43.489041    496.123024      0.0       0.00   \n",
       "MoSold              1460.0       6.321918      2.703626      1.0       5.00   \n",
       "YrSold              1460.0    2007.815753      1.328095   2006.0    2007.00   \n",
       "SalePrice           1460.0  180921.195890  79442.502883  34900.0  129975.00   \n",
       "Total_House_floors  1460.0    2567.048630    821.714421    334.0    2009.50   \n",
       "Total_Home_Quality  1460.0       5.837329      0.846764      1.0       5.50   \n",
       "Total_Bathrooms     1460.0       2.210616      0.785399      1.0       2.00   \n",
       "\n",
       "                         50%        75%       max  \n",
       "Id                     730.5    1095.25    1460.0  \n",
       "MSSubClass              50.0      70.00     190.0  \n",
       "LotFrontage             70.0      80.00     313.0  \n",
       "LotArea               9478.5   11601.50  215245.0  \n",
       "OverallQual              6.0       7.00      10.0  \n",
       "OverallCond              5.0       6.00       9.0  \n",
       "YearBuilt             1973.0    2000.00    2010.0  \n",
       "YearRemodAdd          1994.0    2004.00    2010.0  \n",
       "MasVnrArea               0.0     164.25    1600.0  \n",
       "BsmtFinSF1             383.5     712.25    5644.0  \n",
       "BsmtFinSF2               0.0       0.00    1474.0  \n",
       "BsmtUnfSF              477.5     808.00    2336.0  \n",
       "TotalBsmtSF            991.5    1298.25    6110.0  \n",
       "1stFlrSF              1087.0    1391.25    4692.0  \n",
       "2ndFlrSF                 0.0     728.00    2065.0  \n",
       "LowQualFinSF             0.0       0.00     572.0  \n",
       "GrLivArea             1464.0    1776.75    5642.0  \n",
       "BsmtFullBath             0.0       1.00       3.0  \n",
       "BsmtHalfBath             0.0       0.00       2.0  \n",
       "FullBath                 2.0       2.00       3.0  \n",
       "HalfBath                 0.0       1.00       2.0  \n",
       "BedroomAbvGr             3.0       3.00       8.0  \n",
       "KitchenAbvGr             1.0       1.00       3.0  \n",
       "TotRmsAbvGrd             6.0       7.00      14.0  \n",
       "Fireplaces               1.0       1.00       3.0  \n",
       "GarageYrBlt           1984.5    2003.00    2010.0  \n",
       "GarageCars               2.0       2.00       4.0  \n",
       "GarageArea             480.0     576.00    1418.0  \n",
       "WoodDeckSF               0.0     168.00     857.0  \n",
       "OpenPorchSF             25.0      68.00     547.0  \n",
       "EnclosedPorch            0.0       0.00     552.0  \n",
       "3SsnPorch                0.0       0.00     508.0  \n",
       "ScreenPorch              0.0       0.00     480.0  \n",
       "PoolArea                 0.0       0.00     738.0  \n",
       "MiscVal                  0.0       0.00   15500.0  \n",
       "MoSold                   6.0       8.00      12.0  \n",
       "YrSold                2008.0    2009.00    2010.0  \n",
       "SalePrice           163000.0  214000.00  755000.0  \n",
       "Total_House_floors    2474.0    3004.00   11752.0  \n",
       "Total_Home_Quality       6.0       6.50       9.5  \n",
       "Total_Bathrooms          2.0       2.50       6.0  "
      ]
     },
     "execution_count": 17,
     "metadata": {},
     "output_type": "execute_result"
    }
   ],
   "source": [
    "# check data description\n",
    "df.describe().T\n"
   ]
  },
  {
   "cell_type": "markdown",
   "metadata": {},
   "source": [
    "## Observations\n",
    "- From the results we can see some data are not normally distributed\n",
    "- We have many columns with outliers\n",
    "- Outliers are silent killers by making models overfit or underfit . It results in a model that is not robust \n",
    "- In this project, We are going to  imput features that are not normally distributed\n",
    "- We are going to use a favourable strategy to deal  with these skewed and outliers data\n",
    "\n",
    "- We are going to use a skew value of 0.4"
   ]
  },
  {
   "cell_type": "code",
   "execution_count": 18,
   "metadata": {},
   "outputs": [
    {
     "data": {
      "text/html": [
       "<div>\n",
       "<style scoped>\n",
       "    .dataframe tbody tr th:only-of-type {\n",
       "        vertical-align: middle;\n",
       "    }\n",
       "\n",
       "    .dataframe tbody tr th {\n",
       "        vertical-align: top;\n",
       "    }\n",
       "\n",
       "    .dataframe thead th {\n",
       "        text-align: right;\n",
       "    }\n",
       "</style>\n",
       "<table border=\"1\" class=\"dataframe\">\n",
       "  <thead>\n",
       "    <tr style=\"text-align: right;\">\n",
       "      <th></th>\n",
       "      <th>Skew</th>\n",
       "    </tr>\n",
       "  </thead>\n",
       "  <tbody>\n",
       "    <tr>\n",
       "      <th>MiscVal</th>\n",
       "      <td>24.476794</td>\n",
       "    </tr>\n",
       "    <tr>\n",
       "      <th>PoolArea</th>\n",
       "      <td>14.828374</td>\n",
       "    </tr>\n",
       "    <tr>\n",
       "      <th>LotArea</th>\n",
       "      <td>12.207688</td>\n",
       "    </tr>\n",
       "    <tr>\n",
       "      <th>3SsnPorch</th>\n",
       "      <td>10.304342</td>\n",
       "    </tr>\n",
       "    <tr>\n",
       "      <th>LowQualFinSF</th>\n",
       "      <td>9.011341</td>\n",
       "    </tr>\n",
       "    <tr>\n",
       "      <th>KitchenAbvGr</th>\n",
       "      <td>4.488397</td>\n",
       "    </tr>\n",
       "    <tr>\n",
       "      <th>BsmtFinSF2</th>\n",
       "      <td>4.255261</td>\n",
       "    </tr>\n",
       "    <tr>\n",
       "      <th>ScreenPorch</th>\n",
       "      <td>4.122214</td>\n",
       "    </tr>\n",
       "    <tr>\n",
       "      <th>BsmtHalfBath</th>\n",
       "      <td>4.103403</td>\n",
       "    </tr>\n",
       "    <tr>\n",
       "      <th>EnclosedPorch</th>\n",
       "      <td>3.089872</td>\n",
       "    </tr>\n",
       "    <tr>\n",
       "      <th>MasVnrArea</th>\n",
       "      <td>2.677616</td>\n",
       "    </tr>\n",
       "    <tr>\n",
       "      <th>OpenPorchSF</th>\n",
       "      <td>2.364342</td>\n",
       "    </tr>\n",
       "    <tr>\n",
       "      <th>LotFrontage</th>\n",
       "      <td>2.212959</td>\n",
       "    </tr>\n",
       "    <tr>\n",
       "      <th>SalePrice</th>\n",
       "      <td>1.882876</td>\n",
       "    </tr>\n",
       "    <tr>\n",
       "      <th>Total_House_floors</th>\n",
       "      <td>1.776700</td>\n",
       "    </tr>\n",
       "    <tr>\n",
       "      <th>BsmtFinSF1</th>\n",
       "      <td>1.685503</td>\n",
       "    </tr>\n",
       "    <tr>\n",
       "      <th>WoodDeckSF</th>\n",
       "      <td>1.541376</td>\n",
       "    </tr>\n",
       "    <tr>\n",
       "      <th>TotalBsmtSF</th>\n",
       "      <td>1.524255</td>\n",
       "    </tr>\n",
       "    <tr>\n",
       "      <th>MSSubClass</th>\n",
       "      <td>1.407657</td>\n",
       "    </tr>\n",
       "    <tr>\n",
       "      <th>1stFlrSF</th>\n",
       "      <td>1.376757</td>\n",
       "    </tr>\n",
       "    <tr>\n",
       "      <th>GrLivArea</th>\n",
       "      <td>1.366560</td>\n",
       "    </tr>\n",
       "    <tr>\n",
       "      <th>BsmtUnfSF</th>\n",
       "      <td>0.920268</td>\n",
       "    </tr>\n",
       "    <tr>\n",
       "      <th>2ndFlrSF</th>\n",
       "      <td>0.813030</td>\n",
       "    </tr>\n",
       "    <tr>\n",
       "      <th>OverallCond</th>\n",
       "      <td>0.693067</td>\n",
       "    </tr>\n",
       "    <tr>\n",
       "      <th>TotRmsAbvGrd</th>\n",
       "      <td>0.676341</td>\n",
       "    </tr>\n",
       "    <tr>\n",
       "      <th>HalfBath</th>\n",
       "      <td>0.675897</td>\n",
       "    </tr>\n",
       "    <tr>\n",
       "      <th>Fireplaces</th>\n",
       "      <td>0.649565</td>\n",
       "    </tr>\n",
       "    <tr>\n",
       "      <th>BsmtFullBath</th>\n",
       "      <td>0.596067</td>\n",
       "    </tr>\n",
       "    <tr>\n",
       "      <th>Total_Home_Quality</th>\n",
       "      <td>-0.424850</td>\n",
       "    </tr>\n",
       "    <tr>\n",
       "      <th>YearRemodAdd</th>\n",
       "      <td>-0.503562</td>\n",
       "    </tr>\n",
       "    <tr>\n",
       "      <th>YearBuilt</th>\n",
       "      <td>-0.613461</td>\n",
       "    </tr>\n",
       "    <tr>\n",
       "      <th>GarageYrBlt</th>\n",
       "      <td>-0.719292</td>\n",
       "    </tr>\n",
       "  </tbody>\n",
       "</table>\n",
       "</div>"
      ],
      "text/plain": [
       "                         Skew\n",
       "MiscVal             24.476794\n",
       "PoolArea            14.828374\n",
       "LotArea             12.207688\n",
       "3SsnPorch           10.304342\n",
       "LowQualFinSF         9.011341\n",
       "KitchenAbvGr         4.488397\n",
       "BsmtFinSF2           4.255261\n",
       "ScreenPorch          4.122214\n",
       "BsmtHalfBath         4.103403\n",
       "EnclosedPorch        3.089872\n",
       "MasVnrArea           2.677616\n",
       "OpenPorchSF          2.364342\n",
       "LotFrontage          2.212959\n",
       "SalePrice            1.882876\n",
       "Total_House_floors   1.776700\n",
       "BsmtFinSF1           1.685503\n",
       "WoodDeckSF           1.541376\n",
       "TotalBsmtSF          1.524255\n",
       "MSSubClass           1.407657\n",
       "1stFlrSF             1.376757\n",
       "GrLivArea            1.366560\n",
       "BsmtUnfSF            0.920268\n",
       "2ndFlrSF             0.813030\n",
       "OverallCond          0.693067\n",
       "TotRmsAbvGrd         0.676341\n",
       "HalfBath             0.675897\n",
       "Fireplaces           0.649565\n",
       "BsmtFullBath         0.596067\n",
       "Total_Home_Quality  -0.424850\n",
       "YearRemodAdd        -0.503562\n",
       "YearBuilt           -0.613461\n",
       "GarageYrBlt         -0.719292"
      ]
     },
     "execution_count": 18,
     "metadata": {},
     "output_type": "execute_result"
    }
   ],
   "source": [
    "# select all columns that are skewed for all numerical values\n",
    "num_cols = df.select_dtypes(exclude='object').columns\n",
    "\n",
    "skew_coeff = df[num_cols].skew()\n",
    "\n",
    "skew_coeff_cols = (skew_coeff.sort_values(ascending=False).to_frame()\n",
    "             .rename(columns={0:'Skew'})\n",
    "             .query('abs(Skew) > {0}'.format(0.4)))\n",
    "\n",
    "skew_coeff_cols"
   ]
  },
  {
   "cell_type": "markdown",
   "metadata": {},
   "source": [
    "### Observation\n",
    "- There are many columns that are highly skewed\n",
    "- The best method to deals with these columns is using `boxcox_normmax`  and `boxcox` method\n",
    "- boxcox_normmax Normalizes given column to normally distributed\n",
    "- We are not going to apply for the target column(SalePrice)"
   ]
  },
  {
   "cell_type": "code",
   "execution_count": 19,
   "metadata": {},
   "outputs": [],
   "source": [
    "# Normalize skewed features\n",
    "# we are not required to normalize salesprice\n",
    "for col in skew_coeff_cols.index:\n",
    "    if col != \"SalePrice\" and col !='YearRemodAdd' and col !='YearBuilt':\n",
    "        df[col] = boxcox1p(df[col], boxcox_normmax(df[col] + 1))"
   ]
  },
  {
   "cell_type": "markdown",
   "metadata": {},
   "source": [
    "### Target Column\n",
    "\n",
    "- We are going to inspect target column (SalePrice)\n",
    "- We will apply log transformation to normalize it\n",
    "- We will plot two graphs with normalized and original set"
   ]
  },
  {
   "cell_type": "code",
   "execution_count": 20,
   "metadata": {},
   "outputs": [
    {
     "data": {
      "image/png": "[encoded data removed]",
      "text/plain": [
       "<Figure size 1296x576 with 2 Axes>"
      ]
     },
     "metadata": {},
     "output_type": "display_data"
    }
   ],
   "source": [
    "# lets inspect target column\n",
    "# we are also going to plot log values of the column\n",
    "\n",
    "fig, (ax0, ax1) = plt.subplots(1, 2, figsize=(18, 8))\n",
    "\n",
    "# set face colors\n",
    "fig.patch.set_facecolor('black')\n",
    "ax0.patch.set_facecolor('black')\n",
    "ax1.patch.set_facecolor('black')\n",
    "\n",
    "# plot histplot\n",
    "sns.histplot(df['SalePrice'],kde=True, stat='density', linewidth=0, color = '#236AB9', ax=ax0)\n",
    "sns.histplot(np.log1p(df[\"SalePrice\"]), kde=True, stat='density', linewidth=0,color='#B85B14', ax=ax1)\n",
    "\n",
    "# set ticks colors\n",
    "ax0.tick_params(axis='x', colors='white')\n",
    "ax0.tick_params(axis='y', colors='white')\n",
    "ax1.tick_params(axis='x', colors='white')\n",
    "ax1.tick_params(axis='y', colors='white')\n",
    "\n",
    "# labeles\n",
    "ax0.set(ylabel='Frequency Count', xlabel='values');\n",
    "ax1.set(ylabel='Frequency Count', xlabel='values');\n",
    "\n",
    "# colors for axis label\n",
    "ax0.xaxis.label.set_color('white')\n",
    "ax0.yaxis.label.set_color('white')\n",
    "ax1.xaxis.label.set_color('white')\n",
    "ax1.yaxis.label.set_color('white')\n",
    "\n",
    "# set title\n",
    "ax0.set_title('Original Target (SalePrice) columns  ', color='white', fontsize= 15)\n",
    "ax1.set_title('Transfromed target column (log1p(target))', color='white', fontsize= 15)\n",
    "\n",
    "\n",
    "\n",
    "# Remove axes splines\n",
    "for i in ['top', 'bottom', 'left', 'right']:\n",
    "    ax0.spines[i].set_visible(False)\n",
    "\n",
    "for i in ['top', 'bottom', 'left', 'right']:\n",
    "    ax1.spines[i].set_visible(False)"
   ]
  },
  {
   "cell_type": "markdown",
   "metadata": {},
   "source": [
    "# Observation\n",
    "- We can observe that the target column was skewed to the left\n",
    "- After log transformation , the target column is now normally distributed\n",
    "- We are going to use normally distributed columns (log1p(Target)) as our target values for the model"
   ]
  },
  {
   "cell_type": "code",
   "execution_count": 21,
   "metadata": {},
   "outputs": [],
   "source": [
    "# some columns has not been yet dealt with\n",
    "# df['YearBuilt']"
   ]
  },
  {
   "cell_type": "markdown",
   "metadata": {},
   "source": [
    "### Categorical columns\n",
    "- For categorical columns we will use get dummies to dummisify all categorical columns"
   ]
  },
  {
   "cell_type": "code",
   "execution_count": 22,
   "metadata": {},
   "outputs": [],
   "source": [
    "# filter all non numerical columns\n",
    "non_nums = df.dtypes[df.dtypes == np.object]\n",
    "# get columns that are categorical\n",
    "category_cols = non_nums.index.tolist()\n",
    "# create a dummy for the columns\n",
    "df_enc = pd.get_dummies(df, columns=category_cols, drop_first=True)"
   ]
  },
  {
   "cell_type": "code",
   "execution_count": 23,
   "metadata": {},
   "outputs": [
    {
     "data": {
      "text/plain": [
       "(1460, 255)"
      ]
     },
     "execution_count": 23,
     "metadata": {},
     "output_type": "execute_result"
    }
   ],
   "source": [
    "df_enc.shape"
   ]
  },
  {
   "cell_type": "code",
   "execution_count": 24,
   "metadata": {},
   "outputs": [
    {
     "data": {
      "text/html": [
       "<div>\n",
       "<style scoped>\n",
       "    .dataframe tbody tr th:only-of-type {\n",
       "        vertical-align: middle;\n",
       "    }\n",
       "\n",
       "    .dataframe tbody tr th {\n",
       "        vertical-align: top;\n",
       "    }\n",
       "\n",
       "    .dataframe thead th {\n",
       "        text-align: right;\n",
       "    }\n",
       "</style>\n",
       "<table border=\"1\" class=\"dataframe\">\n",
       "  <thead>\n",
       "    <tr style=\"text-align: right;\">\n",
       "      <th></th>\n",
       "      <th>Id</th>\n",
       "      <th>MSSubClass</th>\n",
       "      <th>LotFrontage</th>\n",
       "      <th>LotArea</th>\n",
       "      <th>OverallQual</th>\n",
       "      <th>OverallCond</th>\n",
       "      <th>YearBuilt</th>\n",
       "      <th>YearRemodAdd</th>\n",
       "      <th>MasVnrArea</th>\n",
       "      <th>BsmtFinSF1</th>\n",
       "      <th>...</th>\n",
       "      <th>SaleType_ConLI</th>\n",
       "      <th>SaleType_ConLw</th>\n",
       "      <th>SaleType_New</th>\n",
       "      <th>SaleType_Oth</th>\n",
       "      <th>SaleType_WD</th>\n",
       "      <th>SaleCondition_AdjLand</th>\n",
       "      <th>SaleCondition_Alloca</th>\n",
       "      <th>SaleCondition_Family</th>\n",
       "      <th>SaleCondition_Normal</th>\n",
       "      <th>SaleCondition_Partial</th>\n",
       "    </tr>\n",
       "  </thead>\n",
       "  <tbody>\n",
       "    <tr>\n",
       "      <th>0</th>\n",
       "      <td>1</td>\n",
       "      <td>6.281286</td>\n",
       "      <td>10.481395</td>\n",
       "      <td>8.670455</td>\n",
       "      <td>7</td>\n",
       "      <td>3.036929</td>\n",
       "      <td>2003</td>\n",
       "      <td>2003</td>\n",
       "      <td>19.340335</td>\n",
       "      <td>118.098021</td>\n",
       "      <td>...</td>\n",
       "      <td>0</td>\n",
       "      <td>0</td>\n",
       "      <td>0</td>\n",
       "      <td>0</td>\n",
       "      <td>1</td>\n",
       "      <td>0</td>\n",
       "      <td>0</td>\n",
       "      <td>0</td>\n",
       "      <td>1</td>\n",
       "      <td>0</td>\n",
       "    </tr>\n",
       "    <tr>\n",
       "      <th>1</th>\n",
       "      <td>2</td>\n",
       "      <td>4.146689</td>\n",
       "      <td>11.558193</td>\n",
       "      <td>8.787627</td>\n",
       "      <td>6</td>\n",
       "      <td>4.241664</td>\n",
       "      <td>1976</td>\n",
       "      <td>1976</td>\n",
       "      <td>0.000000</td>\n",
       "      <td>147.125770</td>\n",
       "      <td>...</td>\n",
       "      <td>0</td>\n",
       "      <td>0</td>\n",
       "      <td>0</td>\n",
       "      <td>0</td>\n",
       "      <td>1</td>\n",
       "      <td>0</td>\n",
       "      <td>0</td>\n",
       "      <td>0</td>\n",
       "      <td>1</td>\n",
       "      <td>0</td>\n",
       "    </tr>\n",
       "    <tr>\n",
       "      <th>2</th>\n",
       "      <td>3</td>\n",
       "      <td>6.281286</td>\n",
       "      <td>10.707930</td>\n",
       "      <td>8.933082</td>\n",
       "      <td>7</td>\n",
       "      <td>3.036929</td>\n",
       "      <td>2001</td>\n",
       "      <td>2002</td>\n",
       "      <td>17.687633</td>\n",
       "      <td>91.750453</td>\n",
       "      <td>...</td>\n",
       "      <td>0</td>\n",
       "      <td>0</td>\n",
       "      <td>0</td>\n",
       "      <td>0</td>\n",
       "      <td>1</td>\n",
       "      <td>0</td>\n",
       "      <td>0</td>\n",
       "      <td>0</td>\n",
       "      <td>1</td>\n",
       "      <td>0</td>\n",
       "    </tr>\n",
       "    <tr>\n",
       "      <th>3</th>\n",
       "      <td>4</td>\n",
       "      <td>6.622583</td>\n",
       "      <td>10.089353</td>\n",
       "      <td>8.782834</td>\n",
       "      <td>7</td>\n",
       "      <td>3.036929</td>\n",
       "      <td>1915</td>\n",
       "      <td>1970</td>\n",
       "      <td>0.000000</td>\n",
       "      <td>52.861358</td>\n",
       "      <td>...</td>\n",
       "      <td>0</td>\n",
       "      <td>0</td>\n",
       "      <td>0</td>\n",
       "      <td>0</td>\n",
       "      <td>1</td>\n",
       "      <td>0</td>\n",
       "      <td>0</td>\n",
       "      <td>0</td>\n",
       "      <td>0</td>\n",
       "      <td>0</td>\n",
       "    </tr>\n",
       "  </tbody>\n",
       "</table>\n",
       "<p>4 rows × 255 columns</p>\n",
       "</div>"
      ],
      "text/plain": [
       "   Id  MSSubClass  LotFrontage   LotArea  OverallQual  OverallCond  YearBuilt  \\\n",
       "0   1    6.281286    10.481395  8.670455            7     3.036929       2003   \n",
       "1   2    4.146689    11.558193  8.787627            6     4.241664       1976   \n",
       "2   3    6.281286    10.707930  8.933082            7     3.036929       2001   \n",
       "3   4    6.622583    10.089353  8.782834            7     3.036929       1915   \n",
       "\n",
       "   YearRemodAdd  MasVnrArea  BsmtFinSF1  ...  SaleType_ConLI  SaleType_ConLw  \\\n",
       "0          2003   19.340335  118.098021  ...               0               0   \n",
       "1          1976    0.000000  147.125770  ...               0               0   \n",
       "2          2002   17.687633   91.750453  ...               0               0   \n",
       "3          1970    0.000000   52.861358  ...               0               0   \n",
       "\n",
       "   SaleType_New  SaleType_Oth  SaleType_WD  SaleCondition_AdjLand  \\\n",
       "0             0             0            1                      0   \n",
       "1             0             0            1                      0   \n",
       "2             0             0            1                      0   \n",
       "3             0             0            1                      0   \n",
       "\n",
       "   SaleCondition_Alloca  SaleCondition_Family  SaleCondition_Normal  \\\n",
       "0                     0                     0                     1   \n",
       "1                     0                     0                     1   \n",
       "2                     0                     0                     1   \n",
       "3                     0                     0                     0   \n",
       "\n",
       "   SaleCondition_Partial  \n",
       "0                      0  \n",
       "1                      0  \n",
       "2                      0  \n",
       "3                      0  \n",
       "\n",
       "[4 rows x 255 columns]"
      ]
     },
     "execution_count": 24,
     "metadata": {},
     "output_type": "execute_result"
    }
   ],
   "source": [
    "df_enc.head(4)\n"
   ]
  },
  {
   "cell_type": "code",
   "execution_count": 25,
   "metadata": {},
   "outputs": [],
   "source": [
    "# generate x and y(target features)\n",
    "X = df_enc[df_enc.columns[df_enc.columns!=\"SalePrice\"]]\n",
    "\n",
    "# we need to transform the target column using log transfromation\n",
    "target = np.log1p(df_enc['SalePrice'])"
   ]
  },
  {
   "cell_type": "code",
   "execution_count": 26,
   "metadata": {},
   "outputs": [],
   "source": [
    "# split the dataset\n",
    "X_train, X_test, y_train, y_test = train_test_split(\n",
    "    X, \n",
    "    target, \n",
    "    test_size=0.2, \n",
    "    random_state=SEED+42)"
   ]
  },
  {
   "cell_type": "code",
   "execution_count": 27,
   "metadata": {},
   "outputs": [
    {
     "data": {
      "text/plain": [
       "((292, 254), (292,), (1168, 254), (1168,))"
      ]
     },
     "execution_count": 27,
     "metadata": {},
     "output_type": "execute_result"
    }
   ],
   "source": [
    "# check the dimensions of the new dataset\n",
    "X_test.shape , y_test.shape , X_train.shape , y_train.shape"
   ]
  },
  {
   "cell_type": "markdown",
   "metadata": {},
   "source": [
    "# MODELLING PART\n",
    "\n",
    "- Since we have formatted the dataset ready for machine leaning purpose.\n",
    "- We are going to try out different models with our main focus on ridge regression"
   ]
  },
  {
   "cell_type": "markdown",
   "metadata": {},
   "source": [
    "### Metrics to be used\n",
    "- For model perfomance testing , we are going to use the following as our metrics\n",
    "     - RMSE - root mean square ... it measures mean square of the losses. It needs to be as close to 0 as possibel\n",
    "     - R_squared score - This measures perfectiness of a regression model or line . Values closers to one are better"
   ]
  },
  {
   "cell_type": "code",
   "execution_count": 28,
   "metadata": {},
   "outputs": [],
   "source": [
    "# define a function to calculate rmse\n",
    "def rmse(ytrue, preds):\n",
    "    return np.sqrt(mean_squared_error(ytrue, preds))\n",
    "\n",
    "def get_model_res(ytrue , preds):\n",
    "    rm = rmse(ytrue , preds)\n",
    "    r2_v = r2_score(ytrue , preds)\n",
    "    \n",
    "    print(\"*****Here are the results of the model****\\n\")\n",
    "    print(f\"MSE score is  {mean_squared_error(ytrue, preds)}\")\n",
    "    print(f\"RMSE Score is  {rm}\")\n",
    "    print(f\"R_squared score is  {r2_v}\")\n"
   ]
  },
  {
   "cell_type": "markdown",
   "metadata": {},
   "source": [
    "### Build a RIDGE REGRESSION FROM SCRATCH\n",
    "- Numpy is used to perfom computation for that is similar to ridge regression"
   ]
  },
  {
   "cell_type": "code",
   "execution_count": 29,
   "metadata": {},
   "outputs": [],
   "source": [
    "class Custom_Ridge():\n",
    "    \"\"\"\n",
    "    Implimentation of custom ridge regression using numpy \n",
    "    \"\"\"\n",
    "  # include solver parameter for flexible implementation of gradient descent\n",
    "  # solution in future, alpha is used in place of lambda to mimic scikit-learn\n",
    "    \n",
    "    def __init__(self , alpha =1e-3 , solver ='closed'):\n",
    "        self.alpha_ = alpha\n",
    "        self.Features_intercept =None\n",
    "        self.solver_ = solver\n",
    "        self.thetas_ = None\n",
    "    #method for trainig the data\n",
    "    def fit(self , X, y):\n",
    "        #get x intercepts for the features\n",
    "        self.Features_intercept = np.c_[np.ones((X.shape[0], 1)), X]\n",
    "        if self.solver_ == 'closed':\n",
    "            Feature_shape = self.Features_intercept.shape[1]\n",
    "            #generate I (identity matriix compatible with features_intercept)/unit matrix\n",
    "            I = np.identity(Feature_shape)\n",
    "            #neet to set the first value in row 1 to be zero\n",
    "            I[0 ,0] =0\n",
    "            #create a matrix  to to hold biases .. This represents the ridge X unit matrix\n",
    "            bias_I = self.alpha_*I\n",
    "            #generate kernel matrix\n",
    "            kernel_matrix = self.Features_intercept.T.dot(self.Features_intercept)\n",
    "            print(f\"KERNEL MATRIX SHAPE IS  {kernel_matrix.shape[0]} x {kernel_matrix.shape[1]} \\n\")\n",
    "            #add kernel matrix with the biased_I and\n",
    "            kernel_bias = kernel_matrix+bias_I\n",
    "            #generate inverse of kernel bias\n",
    "            kernel_bias_inverse = np.linalg.inv(kernel_bias)\n",
    "            #multiply bias_kernel_inverse with outcomes and Features_intercept.T\n",
    "            thetas = kernel_bias_inverse.dot(self.Features_intercept.T).dot(y)\n",
    "            self.thetas_ = thetas\n",
    "        #print(self.thetas_)\n",
    "        return self\n",
    "    def predict(self , X):\n",
    "        test_Features_intercept = np.c_[np.ones((X.shape[0], 1)), X]\n",
    "        preds =  test_Features_intercept.dot(self.thetas_)\n",
    "        self.preds = preds\n",
    "        \n",
    "        return self.preds\n",
    "    \n",
    "    def score(self , X , ytrue):\n",
    "        preds = self.predict(X)\n",
    "        return  mean_squared_error(ytrue, preds)\n",
    "        "
   ]
  },
  {
   "cell_type": "markdown",
   "metadata": {},
   "source": [
    "### Normalize X features\n",
    "\n",
    "- The scaling function scales data between a range of 0 and -1\n",
    "- new minimum will be -1 while new maximum will be 1"
   ]
  },
  {
   "cell_type": "code",
   "execution_count": 30,
   "metadata": {},
   "outputs": [],
   "source": [
    "\n",
    "class Customer_normalizer:\n",
    "    \"\"\"\n",
    "    Scales data between a range of -1 and 1\n",
    "    \"\"\"\n",
    "    def __init__(self):\n",
    "        print(\"Started Fitting\")\n",
    "    def fit_normalizer(self , X):\n",
    "        new_min =-1\n",
    "        new_max = 1\n",
    "        scaled_values = ((X - np.min(X))*(new_max - new_min)/(np.max(X) -np.min(X))) +new_min\n",
    "        return scaled_values.fillna(0)\n",
    "    \n"
   ]
  },
  {
   "cell_type": "code",
   "execution_count": 31,
   "metadata": {},
   "outputs": [
    {
     "name": "stdout",
     "output_type": "stream",
     "text": [
      "Started Fitting\n"
     ]
    }
   ],
   "source": [
    "# scale the data\n",
    "cscaler = Customer_normalizer()\n",
    "\n",
    "X_test = cscaler.fit_normalizer(X_test)\n",
    "X_train = cscaler.fit_normalizer(X_train)\n"
   ]
  },
  {
   "cell_type": "markdown",
   "metadata": {},
   "source": [
    "### Shuffling Datapoints\n",
    "\n",
    "- We are going to reshuffle the datapoints\n",
    "- We need to set seeds for reproductivity"
   ]
  },
  {
   "cell_type": "code",
   "execution_count": 32,
   "metadata": {},
   "outputs": [],
   "source": [
    "# create a function for shuffline\n",
    "def custom_shuffle(X, Y):\n",
    "    \"\"\"\n",
    "    Shuffles data to change their indexes place and return new arrays\n",
    "    \"\"\"\n",
    "    assert len(X) == len(X)\n",
    "    indexes = np.random.permutation(len(X))\n",
    "    return X.iloc[indexes], Y.iloc[indexes]\n"
   ]
  },
  {
   "cell_type": "code",
   "execution_count": 33,
   "metadata": {},
   "outputs": [],
   "source": [
    "# reshuffle the datapoints\n",
    "# apply shuffling\n",
    "X_train , y_train = custom_shuffle(X_train , y_train)\n",
    "X_test , y_test = custom_shuffle(X_test , y_test)"
   ]
  },
  {
   "cell_type": "code",
   "execution_count": 34,
   "metadata": {},
   "outputs": [
    {
     "data": {
      "text/plain": [
       "((1168, 254), (1168,), (292, 254), (292,))"
      ]
     },
     "execution_count": 34,
     "metadata": {},
     "output_type": "execute_result"
    }
   ],
   "source": [
    "# recheck the datapoint shape\n",
    "X_train.shape , y_train.shape , X_test.shape , y_test.shape\n"
   ]
  },
  {
   "cell_type": "code",
   "execution_count": null,
   "metadata": {},
   "outputs": [],
   "source": []
  },
  {
   "cell_type": "markdown",
   "metadata": {},
   "source": [
    "### Building a Baseline RIDGE model with alpha as 1e-2"
   ]
  },
  {
   "cell_type": "code",
   "execution_count": 35,
   "metadata": {},
   "outputs": [
    {
     "name": "stdout",
     "output_type": "stream",
     "text": [
      "KERNEL MATRIX SHAPE IS  255 x 255 \n",
      "\n",
      "*****Here are the results of the model****\n",
      "\n",
      "MSE score is  0.038975000308298875\n",
      "RMSE Score is  0.19742087100481265\n",
      "R_squared score is  0.7880747594913683\n"
     ]
    }
   ],
   "source": [
    "alpha_ =1e2\n",
    "model = Custom_Ridge(alpha=alpha_)\n",
    "model.fit(X_train.fillna(0),y_train)\n",
    "predictions = model.predict(X_test.fillna(0))\n",
    "get_model_res(y_test , predictions)"
   ]
  },
  {
   "cell_type": "markdown",
   "metadata": {},
   "source": [
    "### Observation\n",
    "- The model is able to generate good results\n",
    "- The model line data point predictions for the test set is over 78%\n",
    "- Mean absolute loss is also very small to the tune of 0.038\n",
    "\n",
    "\n",
    "\n",
    "### The model is then trained with a tuned parameters .\n",
    "- The values of alpha are going to be altered and get different results\n",
    "-"
   ]
  },
  {
   "cell_type": "code",
   "execution_count": 36,
   "metadata": {},
   "outputs": [
    {
     "name": "stdout",
     "output_type": "stream",
     "text": [
      "KERNEL MATRIX SHAPE IS  255 x 255 \n",
      "\n",
      "KERNEL MATRIX SHAPE IS  255 x 255 \n",
      "\n",
      "KERNEL MATRIX SHAPE IS  255 x 255 \n",
      "\n",
      "KERNEL MATRIX SHAPE IS  255 x 255 \n",
      "\n",
      "KERNEL MATRIX SHAPE IS  255 x 255 \n",
      "\n",
      "KERNEL MATRIX SHAPE IS  255 x 255 \n",
      "\n",
      "KERNEL MATRIX SHAPE IS  255 x 255 \n",
      "\n",
      "KERNEL MATRIX SHAPE IS  255 x 255 \n",
      "\n",
      "KERNEL MATRIX SHAPE IS  255 x 255 \n",
      "\n",
      "KERNEL MATRIX SHAPE IS  255 x 255 \n",
      "\n",
      "KERNEL MATRIX SHAPE IS  255 x 255 \n",
      "\n",
      "KERNEL MATRIX SHAPE IS  255 x 255 \n",
      "\n",
      "KERNEL MATRIX SHAPE IS  255 x 255 \n",
      "\n",
      "KERNEL MATRIX SHAPE IS  255 x 255 \n",
      "\n",
      "KERNEL MATRIX SHAPE IS  255 x 255 \n",
      "\n",
      "KERNEL MATRIX SHAPE IS  255 x 255 \n",
      "\n",
      "KERNEL MATRIX SHAPE IS  255 x 255 \n",
      "\n",
      "KERNEL MATRIX SHAPE IS  255 x 255 \n",
      "\n",
      "KERNEL MATRIX SHAPE IS  255 x 255 \n",
      "\n",
      "KERNEL MATRIX SHAPE IS  255 x 255 \n",
      "\n",
      "KERNEL MATRIX SHAPE IS  255 x 255 \n",
      "\n",
      "KERNEL MATRIX SHAPE IS  255 x 255 \n",
      "\n",
      "KERNEL MATRIX SHAPE IS  255 x 255 \n",
      "\n",
      "KERNEL MATRIX SHAPE IS  255 x 255 \n",
      "\n",
      "KERNEL MATRIX SHAPE IS  255 x 255 \n",
      "\n",
      "KERNEL MATRIX SHAPE IS  255 x 255 \n",
      "\n",
      "KERNEL MATRIX SHAPE IS  255 x 255 \n",
      "\n",
      "KERNEL MATRIX SHAPE IS  255 x 255 \n",
      "\n",
      "KERNEL MATRIX SHAPE IS  255 x 255 \n",
      "\n",
      "KERNEL MATRIX SHAPE IS  255 x 255 \n",
      "\n",
      "KERNEL MATRIX SHAPE IS  255 x 255 \n",
      "\n",
      "KERNEL MATRIX SHAPE IS  255 x 255 \n",
      "\n",
      "KERNEL MATRIX SHAPE IS  255 x 255 \n",
      "\n",
      "KERNEL MATRIX SHAPE IS  255 x 255 \n",
      "\n",
      "KERNEL MATRIX SHAPE IS  255 x 255 \n",
      "\n",
      "KERNEL MATRIX SHAPE IS  255 x 255 \n",
      "\n",
      "KERNEL MATRIX SHAPE IS  255 x 255 \n",
      "\n",
      "KERNEL MATRIX SHAPE IS  255 x 255 \n",
      "\n",
      "KERNEL MATRIX SHAPE IS  255 x 255 \n",
      "\n",
      "KERNEL MATRIX SHAPE IS  255 x 255 \n",
      "\n",
      "KERNEL MATRIX SHAPE IS  255 x 255 \n",
      "\n",
      "KERNEL MATRIX SHAPE IS  255 x 255 \n",
      "\n",
      "KERNEL MATRIX SHAPE IS  255 x 255 \n",
      "\n",
      "KERNEL MATRIX SHAPE IS  255 x 255 \n",
      "\n",
      "KERNEL MATRIX SHAPE IS  255 x 255 \n",
      "\n",
      "KERNEL MATRIX SHAPE IS  255 x 255 \n",
      "\n",
      "KERNEL MATRIX SHAPE IS  255 x 255 \n",
      "\n",
      "KERNEL MATRIX SHAPE IS  255 x 255 \n",
      "\n",
      "KERNEL MATRIX SHAPE IS  255 x 255 \n",
      "\n",
      "KERNEL MATRIX SHAPE IS  255 x 255 \n",
      "\n",
      "KERNEL MATRIX SHAPE IS  255 x 255 \n",
      "\n",
      "KERNEL MATRIX SHAPE IS  255 x 255 \n",
      "\n",
      "KERNEL MATRIX SHAPE IS  255 x 255 \n",
      "\n",
      "KERNEL MATRIX SHAPE IS  255 x 255 \n",
      "\n",
      "KERNEL MATRIX SHAPE IS  255 x 255 \n",
      "\n",
      "KERNEL MATRIX SHAPE IS  255 x 255 \n",
      "\n",
      "KERNEL MATRIX SHAPE IS  255 x 255 \n",
      "\n",
      "KERNEL MATRIX SHAPE IS  255 x 255 \n",
      "\n",
      "KERNEL MATRIX SHAPE IS  255 x 255 \n",
      "\n",
      "KERNEL MATRIX SHAPE IS  255 x 255 \n",
      "\n",
      "KERNEL MATRIX SHAPE IS  255 x 255 \n",
      "\n",
      "KERNEL MATRIX SHAPE IS  255 x 255 \n",
      "\n",
      "KERNEL MATRIX SHAPE IS  255 x 255 \n",
      "\n",
      "KERNEL MATRIX SHAPE IS  255 x 255 \n",
      "\n",
      "KERNEL MATRIX SHAPE IS  255 x 255 \n",
      "\n",
      "KERNEL MATRIX SHAPE IS  255 x 255 \n",
      "\n",
      "KERNEL MATRIX SHAPE IS  255 x 255 \n",
      "\n",
      "KERNEL MATRIX SHAPE IS  255 x 255 \n",
      "\n",
      "KERNEL MATRIX SHAPE IS  255 x 255 \n",
      "\n",
      "KERNEL MATRIX SHAPE IS  255 x 255 \n",
      "\n",
      "KERNEL MATRIX SHAPE IS  255 x 255 \n",
      "\n",
      "KERNEL MATRIX SHAPE IS  255 x 255 \n",
      "\n",
      "KERNEL MATRIX SHAPE IS  255 x 255 \n",
      "\n",
      "KERNEL MATRIX SHAPE IS  255 x 255 \n",
      "\n",
      "KERNEL MATRIX SHAPE IS  255 x 255 \n",
      "\n",
      "KERNEL MATRIX SHAPE IS  255 x 255 \n",
      "\n",
      "KERNEL MATRIX SHAPE IS  255 x 255 \n",
      "\n",
      "KERNEL MATRIX SHAPE IS  255 x 255 \n",
      "\n",
      "KERNEL MATRIX SHAPE IS  255 x 255 \n",
      "\n",
      "KERNEL MATRIX SHAPE IS  255 x 255 \n",
      "\n",
      "KERNEL MATRIX SHAPE IS  255 x 255 \n",
      "\n",
      "KERNEL MATRIX SHAPE IS  255 x 255 \n",
      "\n",
      "KERNEL MATRIX SHAPE IS  255 x 255 \n",
      "\n",
      "KERNEL MATRIX SHAPE IS  255 x 255 \n",
      "\n",
      "KERNEL MATRIX SHAPE IS  255 x 255 \n",
      "\n",
      "KERNEL MATRIX SHAPE IS  255 x 255 \n",
      "\n",
      "KERNEL MATRIX SHAPE IS  255 x 255 \n",
      "\n",
      "KERNEL MATRIX SHAPE IS  255 x 255 \n",
      "\n",
      "KERNEL MATRIX SHAPE IS  255 x 255 \n",
      "\n",
      "KERNEL MATRIX SHAPE IS  255 x 255 \n",
      "\n",
      "KERNEL MATRIX SHAPE IS  255 x 255 \n",
      "\n",
      "KERNEL MATRIX SHAPE IS  255 x 255 \n",
      "\n",
      "KERNEL MATRIX SHAPE IS  255 x 255 \n",
      "\n",
      "KERNEL MATRIX SHAPE IS  255 x 255 \n",
      "\n",
      "KERNEL MATRIX SHAPE IS  255 x 255 \n",
      "\n",
      "KERNEL MATRIX SHAPE IS  255 x 255 \n",
      "\n",
      "KERNEL MATRIX SHAPE IS  255 x 255 \n",
      "\n",
      "KERNEL MATRIX SHAPE IS  255 x 255 \n",
      "\n",
      "KERNEL MATRIX SHAPE IS  255 x 255 \n",
      "\n",
      "KERNEL MATRIX SHAPE IS  255 x 255 \n",
      "\n",
      "done Training\n"
     ]
    }
   ],
   "source": [
    "# get some alphas number\n",
    "# alphas = np.logspace(-10,2,20)\n",
    "\n",
    "# 100 values of alphas are genrated and used for taining\n",
    "alphas = np.geomspace(1e-9, 1e3, num=100)\n",
    "# list to hold r2_score , mse for each model\n",
    "mse , r_2 = [] , []\n",
    "# iterate through all alphas and train RIDGE regressor\n",
    "for i in range(0,len(alphas)):\n",
    "    model_test = Custom_Ridge(alpha=alphas[i])\n",
    "    model_test.fit(X_train,y_train)\n",
    "    res_pred = model_test.predict(X_test)\n",
    "    mse.append(mean_squared_error(y_test , res_pred))\n",
    "    r_2.append(r2_score(y_test , res_pred))\n",
    "print(\"done Training\")\n"
   ]
  },
  {
   "cell_type": "code",
   "execution_count": null,
   "metadata": {},
   "outputs": [],
   "source": []
  },
  {
   "cell_type": "code",
   "execution_count": 37,
   "metadata": {},
   "outputs": [
    {
     "name": "stdout",
     "output_type": "stream",
     "text": [
      "Best R2 score is 0.86259  with MSE as 0.02527  and alpha as  3.764936\n",
      "Best MSE score is 0.02527  with R2 as 0.86259  and alpha as  3.764936\n"
     ]
    }
   ],
   "source": [
    "# check the best top best values of alpha\n",
    "# r2_score is going to be used as the main metric checker\n",
    "# For R2 score the maximum score is obtain while\n",
    "# for the MSE  minimum values of errors are obtained\n",
    "\n",
    "max_r2_index = np.array(r_2).argmax()\n",
    "min_mse_index = np.array(mse).argmin()\n",
    "\n",
    "# print the res with score and alpha\n",
    "print(f\"Best R2 score is {np.round(r_2[max_r2_index] , 5)}  with MSE as {np.round(mse[max_r2_index] , 5)}  and alpha as  {np.round(alphas[max_r2_index] , 6)}\")\n",
    "print(f\"Best MSE score is {np.round(mse[min_mse_index] , 5)}  with R2 as {np.round(r_2[min_mse_index] , 5)}  and alpha as  {np.round(alphas[min_mse_index] , 6)}\")\n"
   ]
  },
  {
   "cell_type": "markdown",
   "metadata": {},
   "source": [
    "### Observation\n",
    "- The values obtained resides at the same index.\n",
    "- The values are used to retrain the model and observe the results\n"
   ]
  },
  {
   "cell_type": "code",
   "execution_count": 38,
   "metadata": {},
   "outputs": [
    {
     "data": {
      "text/plain": [
       "3.7649358067924714"
      ]
     },
     "execution_count": 38,
     "metadata": {},
     "output_type": "execute_result"
    }
   ],
   "source": [
    "best_alpha_tuned_value = alphas[min_mse_index]\n",
    "best_alpha_tuned_value"
   ]
  },
  {
   "cell_type": "code",
   "execution_count": 39,
   "metadata": {},
   "outputs": [
    {
     "name": "stdout",
     "output_type": "stream",
     "text": [
      "KERNEL MATRIX SHAPE IS  255 x 255 \n",
      "\n",
      "*****Here are the results of the model****\n",
      "\n",
      "MSE score is  0.025270957154993855\n",
      "RMSE Score is  0.15896841558936747\n",
      "R_squared score is  0.8625900287211787\n"
     ]
    }
   ],
   "source": [
    "# retrain the model\n",
    "model_custom_ridge = Custom_Ridge(alpha=best_alpha_tuned_value)\n",
    "model_custom_ridge.fit(cscaler.fit_normalizer(X_train),y_train)\n",
    "predictions = model_custom_ridge.predict(cscaler.fit_normalizer(X_test))\n",
    "\n",
    "get_model_res(y_test , predictions)"
   ]
  },
  {
   "cell_type": "markdown",
   "metadata": {},
   "source": [
    "### Try selecting some columns\n",
    "- This is because working with the current number of datapoints maybe heavy and resources consuming for plynomial features"
   ]
  },
  {
   "cell_type": "markdown",
   "metadata": {},
   "source": [
    "## Polynomial Features\n",
    "- Try using different degrees of polynomial features to see the scores"
   ]
  },
  {
   "cell_type": "code",
   "execution_count": 40,
   "metadata": {},
   "outputs": [
    {
     "data": {
      "text/plain": [
       "StandardScaler()"
      ]
     },
     "execution_count": 40,
     "metadata": {},
     "output_type": "execute_result"
    }
   ],
   "source": [
    "# select new columns\n",
    "new_cols = ['LotArea' , 'LotFrontage' , \"YearBuilt\" , \"GrLivArea\" , \"TotalBsmtSF\"]\n",
    "# create a scaling object for the new datapoints\n",
    "scaler2 = StandardScaler()\n",
    "scaler2.fit(X[new_cols])"
   ]
  },
  {
   "cell_type": "code",
   "execution_count": 41,
   "metadata": {},
   "outputs": [],
   "source": [
    "# get a sample of 500 rows for training and 100 rows for testing\n",
    "\n",
    "trainX , trainY = X[new_cols].iloc[:500] , target.iloc[:500]\n",
    "testX , testY = X[new_cols].iloc[500:700] ,target.iloc[500:700]"
   ]
  },
  {
   "cell_type": "code",
   "execution_count": 42,
   "metadata": {},
   "outputs": [
    {
     "data": {
      "text/plain": [
       "((500, 5), (500,), (200, 5), (200,))"
      ]
     },
     "execution_count": 42,
     "metadata": {},
     "output_type": "execute_result"
    }
   ],
   "source": [
    "# check the sizes of the new data points\n",
    "trainX.shape , trainY.shape , testX.shape , testY.shape"
   ]
  },
  {
   "cell_type": "code",
   "execution_count": 43,
   "metadata": {},
   "outputs": [],
   "source": [
    "# scale the data\n",
    "sm_scaler = StandardScaler()\n",
    "sm_scaler.fit(X[new_cols])\n",
    "\n",
    "trainX = sm_scaler.transform(trainX)\n",
    "testX = sm_scaler.transform(testX)"
   ]
  },
  {
   "cell_type": "code",
   "execution_count": 44,
   "metadata": {},
   "outputs": [
    {
     "name": "stdout",
     "output_type": "stream",
     "text": [
      "KERNEL MATRIX SHAPE IS  7 x 7 \n",
      "\n",
      "KERNEL MATRIX SHAPE IS  22 x 22 \n",
      "\n",
      "KERNEL MATRIX SHAPE IS  57 x 57 \n",
      "\n",
      "KERNEL MATRIX SHAPE IS  127 x 127 \n",
      "\n",
      "KERNEL MATRIX SHAPE IS  253 x 253 \n",
      "\n"
     ]
    },
    {
     "data": {
      "text/plain": [
       "Text(0, 0.5, 'log MSE res')"
      ]
     },
     "execution_count": 44,
     "metadata": {},
     "output_type": "execute_result"
    },
    {
     "data": {
      "image/png": "[encoded data removed]",
      "text/plain": [
       "<Figure size 648x504 with 1 Axes>"
      ]
     },
     "metadata": {
      "needs_background": "light"
     },
     "output_type": "display_data"
    }
   ],
   "source": [
    "# in order to test different polynomial features \n",
    "# it is going to be done from degree 1 to 5 due to computation power\n",
    "from sklearn.preprocessing import PolynomialFeatures\n",
    "mse_res =[]\n",
    "r2_res = []\n",
    "for deg in range(1,6):\n",
    "    poly= PolynomialFeatures(degree=deg)\n",
    "    x_poly = poly.fit_transform(trainX)\n",
    "\n",
    "    model = Custom_Ridge()\n",
    "    model.fit(x_poly, trainY)\n",
    "    y_poly_pred = model.predict(poly.transform(testX))\n",
    "\n",
    "    mse = mean_squared_error(testY,y_poly_pred)\n",
    "    r_2 = r2_score(testY,y_poly_pred)\n",
    "    mse_res.append(mse)\n",
    "    r2_res.append(r_2)\n",
    "\n",
    "    \n",
    "    \n",
    "# plot the results for mse\n",
    "plt.figure(figsize=(9,7))\n",
    "plt.plot(range(1,6) , mse_res)\n",
    "plt.title(\"Polynomial degree against mse log results for Ridge model\")\n",
    "plt.xlabel(\"Polynomial Degree\")\n",
    "plt.ylabel(\"log MSE res\")"
   ]
  },
  {
   "cell_type": "code",
   "execution_count": 45,
   "metadata": {},
   "outputs": [
    {
     "data": {
      "text/plain": [
       "Text(0, 0.5, 'R2 score')"
      ]
     },
     "execution_count": 45,
     "metadata": {},
     "output_type": "execute_result"
    },
    {
     "data": {
      "image/png": "[encoded data removed]",
      "text/plain": [
       "<Figure size 648x504 with 1 Axes>"
      ]
     },
     "metadata": {
      "needs_background": "light"
     },
     "output_type": "display_data"
    }
   ],
   "source": [
    "\n",
    "# plot the results for r2\n",
    "plt.figure(figsize=(9,7))\n",
    "plt.plot(range(1,6) , r2_res)\n",
    "plt.title(\"Polynomial degree against R2  results for Ridge model\")\n",
    "plt.xlabel(\"Polynomial Degree\")\n",
    "plt.ylabel(\"R2 score\")"
   ]
  },
  {
   "cell_type": "markdown",
   "metadata": {},
   "source": [
    "### Observation\n",
    "- Lower polynomial degrees has better results"
   ]
  },
  {
   "cell_type": "code",
   "execution_count": null,
   "metadata": {},
   "outputs": [],
   "source": []
  },
  {
   "cell_type": "markdown",
   "metadata": {},
   "source": [
    "# COMPAIRING RR MODEL CREATED AGAINST OTHER MODELS\n",
    "\n",
    "### Since a custom model has been trained and results obtained\n",
    "\n",
    "- Different models will therefore be tested using different parameters\n",
    "- Their results will then be compaired to the Custom Ridge model created\n",
    "\n",
    "\n",
    "\n",
    "### 0. Lasso and Ridge(Original Model)"
   ]
  },
  {
   "cell_type": "code",
   "execution_count": 46,
   "metadata": {},
   "outputs": [
    {
     "name": "stdout",
     "output_type": "stream",
     "text": [
      "Best score in Ridge:  0.13114477119702225\n",
      "Best score in Lasso Regressor is   0.12529799373239742\n"
     ]
    },
    {
     "data": {
      "image/png": "[encoded data removed]",
      "text/plain": [
       "<Figure size 864x504 with 1 Axes>"
      ]
     },
     "metadata": {
      "needs_background": "light"
     },
     "output_type": "display_data"
    }
   ],
   "source": [
    "# number of folds for cross validation\n",
    "cv = 5\n",
    "\n",
    "# get some alphas number\n",
    "alphas = np.logspace(-10,2,20)\n",
    "# results variables\n",
    "scores = np.zeros((len(alphas),cv))\n",
    "scores_mu = np.zeros(len(alphas))\n",
    "scores_sigma = np.zeros(len(alphas))\n",
    "# iterate through all alphas and train RIDGE regressor\n",
    "for i in range(0,len(alphas)):\n",
    "    model = Ridge(alpha=alphas[i])\n",
    "    #get results for each iteration fold\n",
    "    cc = np.sqrt(-cross_val_score(model, cscaler.fit_normalizer(X), target,scoring=\"neg_mean_squared_error\", cv = cv))\n",
    "    scores[i,:] = cc\n",
    "    #get variation mean and std\n",
    "    scores_mu[i] = np.mean(scores[i,:])\n",
    "    scores_sigma[i] = np.std(scores[i,:])\n",
    "\n",
    "#     plot results for mean against alphas values\n",
    "plt.figure(figsize = (12,7))   \n",
    "plt.plot(alphas,scores_mu,'c-',lw=3, alpha=0.5, label = \"Ridge Regressor\")\n",
    "# fill the confidence level on the graph for each model\n",
    "plt.fill_between(\n",
    "    alphas,\n",
    "    np.array(scores_mu)-np.array(scores_sigma),\n",
    "    np.array(scores_mu)+np.array(scores_sigma),\n",
    "    color=\"c\",\n",
    "    alpha=0.5\n",
    ")\n",
    "\n",
    "# print get the best value from the mean values\n",
    "print(\"Best score in Ridge: \",min(scores_mu))\n",
    "\n",
    "# do the same for Lasso model\n",
    "for i in range(0,len(alphas)):\n",
    "    model = Lasso(alpha=alphas[i])\n",
    "    scores[i,:] = np.sqrt(-cross_val_score(model, X, target,scoring=\"neg_mean_squared_error\", cv = cv))\n",
    "    scores_mu[i] = np.mean(scores[i,:])\n",
    "    scores_sigma[i] = np.std(scores[i,:])\n",
    "\n",
    "plt.plot(\n",
    "    alphas,scores_mu,\n",
    "    'g-',\n",
    "    lw=3, \n",
    "    alpha=0.5, \n",
    "    label=\"Lasso Regressor\"\n",
    ")\n",
    "plt.fill_between(\n",
    "    alphas,np.array(scores_mu)-np.array(scores_sigma),\n",
    "    np.array(scores_mu)+np.array(scores_sigma),\n",
    "    color=\"g\",alpha=0.5\n",
    ")\n",
    "\n",
    "plt.xscale(\"log\")\n",
    "plt.xlabel(\"alpha values\", size=20)\n",
    "plt.ylabel(\"RMSE Value\", size=20)\n",
    "plt.legend(loc=2)\n",
    "\n",
    "print(\"Best score in Lasso Regressor is  \",min(scores_mu))"
   ]
  },
  {
   "cell_type": "markdown",
   "metadata": {},
   "source": [
    "### Observation\n",
    "- LASSO seems to perfom better with lower alpha values\n",
    "- RIDGE regressions perfoms averagely well with almost same score accross all selected values\n",
    "- RIDGE had the best results"
   ]
  },
  {
   "cell_type": "code",
   "execution_count": 47,
   "metadata": {},
   "outputs": [],
   "source": [
    "# lets try cross validation on both of them separately to see the score"
   ]
  },
  {
   "cell_type": "markdown",
   "metadata": {},
   "source": [
    "### 1. Lasso Regression + Cross-Validation\n",
    "- Lasso Regression is a linear model that minimizes its cost function.\n",
    "- The cost funtion has a regularization parameter with an alpha that tunes the intensity of this penalty term. \n",
    "- This penalty reduces some features to zero, which makes it easier to understand and interpret the prediction.\n",
    "- The larger the value of alpha, the more coefficients are forced to be zero hence we need optimum alpha value.\n",
    "- The Lasso regression helps reduce over-fitting and feature selection."
   ]
  },
  {
   "cell_type": "code",
   "execution_count": 48,
   "metadata": {},
   "outputs": [
    {
     "name": "stdout",
     "output_type": "stream",
     "text": [
      "The Lasso 1 Model CV Results:\n",
      "Best Alpha Value 0.0002000887556813876\n",
      "\n",
      "\n",
      "*****Here are the results of the model****\n",
      "\n",
      "MSE score is  0.03239519042003771\n",
      "RMSE Score is  0.1799866395598232\n",
      "R_squared score is  0.8238522522954904\n"
     ]
    }
   ],
   "source": [
    "# create a model instance with some params\n",
    "lasso = Lasso(max_iter = 100000, normalize = True)\n",
    "# use Cross Validation builtin\n",
    "lassocv = LassoCV(alphas = None, cv = 10, max_iter = 100000, normalize = True)\n",
    "lassocv.fit(X_train, y_train)\n",
    "\n",
    "# use the best parameters from lassocv to set to lasso model\n",
    "lasso.set_params(alpha=lassocv.alpha_)\n",
    "lasso.fit(X_train, y_train)\n",
    "\n",
    "# get the best alpha and model results\n",
    "print('The Lasso 1 Model CV Results:')\n",
    "print(\"Best Alpha Value\", lassocv.alpha_)\n",
    "# call the metric function\n",
    "print(\"\\n\")\n",
    "get_model_res(y_test , lasso.predict(X_test))"
   ]
  },
  {
   "cell_type": "markdown",
   "metadata": {},
   "source": [
    "## Observations\n",
    "- We can be able to see promising results\n",
    "- The line is well fit with a score r_squared of about 0.9009 which is about 90% fit\n",
    "- We also got better values for rmse of about 0.1350\n",
    "\n",
    "\n",
    "- Lets Try another lasso with our preset parameters"
   ]
  },
  {
   "cell_type": "code",
   "execution_count": null,
   "metadata": {},
   "outputs": [],
   "source": []
  },
  {
   "cell_type": "code",
   "execution_count": 49,
   "metadata": {},
   "outputs": [
    {
     "name": "stdout",
     "output_type": "stream",
     "text": [
      "The Lasso 1 Model CV Results:\n",
      "Best Alpha Value 8.111308307896872e-05\n",
      "\n",
      "\n",
      "*****Here are the results of the model****\n",
      "\n",
      "MSE score is  0.018390876880611653\n",
      "RMSE Score is  0.1356129672288445\n",
      "R_squared score is  0.9000002315520604\n"
     ]
    }
   ],
   "source": [
    "# we are trying same thing as above but different method i.e we are setting alpha values\n",
    "# get random alpha values\n",
    "alpha = np.geomspace(1e-9, 1e0, num=12)\n",
    "# train  the Lasso cross validation model\n",
    "lasso_cv_model = LassoCV(alphas = alpha, cv = 10, max_iter = 100000, normalize = True)\n",
    "lasso_cv_model.fit(X_train,y_train)\n",
    "\n",
    "#train a lasso model with tuned parameters \n",
    "lasso_tuned_model = Lasso(max_iter = 100000, normalize = True)\n",
    "lasso_tuned_model.set_params(alpha = lasso_cv_model.alpha_)\n",
    "lasso_tuned_model.fit(X_train,y_train)\n",
    "\n",
    "\n",
    "# get the best alpha and model results\n",
    "print('The Lasso 1 Model CV Results:')\n",
    "print(\"Best Alpha Value\", lasso_cv_model.alpha_)\n",
    "# call the metric function\n",
    "print(\"\\n\")\n",
    "get_model_res(y_test , lasso_tuned_model.predict(X_test))\n",
    "\n"
   ]
  },
  {
   "cell_type": "markdown",
   "metadata": {},
   "source": [
    "### Observation\n",
    "- Woow a great score with the adjustment of alpha values\n",
    "- We are able to get a r2_score of about 0.9053 or about 91% \n",
    "- RMSE values also greatly reduced to 0.132\n",
    "\n",
    "- That is not our limit , Ltes try to compaire with other models\n",
    "- Lets Now try for Ridge Regression"
   ]
  },
  {
   "cell_type": "markdown",
   "metadata": {},
   "source": [
    "# 2. Ridge Regression and Cross-Validation\n",
    "\n",
    "- Ridge Regression(RR) is similar to the Lasso Regression since it is a linear model that tries to minimize the cost function with l2 penalty.\n",
    "- RR model doesn't force some features to zero.\n",
    "- RR shrinks the coefficients, and it helps to reduce the model complexity and multi-collinearity.\n",
    "\n",
    "\n",
    "- Since we have seen setting values of alpha is goood.. Lets try use it with RIDGE"
   ]
  },
  {
   "cell_type": "code",
   "execution_count": 50,
   "metadata": {},
   "outputs": [
    {
     "name": "stdout",
     "output_type": "stream",
     "text": [
      "The RIDGE 1 Model CV Results:\n",
      "Best Alpha Value 0.4750344950434984\n",
      "\n",
      "\n",
      "*****Here are the results of the model****\n",
      "\n",
      "MSE score is  0.018335422677386044\n",
      "RMSE Score is  0.13540835527169676\n",
      "R_squared score is  0.9003017618987658\n",
      "\n",
      "\n",
      "\n",
      "\n"
     ]
    }
   ],
   "source": [
    "# we observed that ridge also score higher with high alpha values , we will increase it to 1e2\n",
    "\n",
    "#generate random alphas\n",
    "alphas = np.geomspace(1e-10, 2, num=100)\n",
    "# train a cross validation model\n",
    "ridgecv_model = RidgeCV(alphas = alphas, scoring = 'neg_mean_squared_error', normalize = True)\n",
    "ridgecv_model.fit(X_train, y_train)\n",
    "# fit a new ridge with the best values\n",
    "ridge_model = Ridge(alpha = ridgecv_model.alpha_, normalize = True)\n",
    "ridge_model.fit(X_train, y_train)\n",
    "\n",
    "\n",
    "# get the best alpha and model results\n",
    "print('The RIDGE 1 Model CV Results:')\n",
    "print(\"Best Alpha Value\", ridgecv_model.alpha_)\n",
    "# call the metric function\n",
    "print(\"\\n\")\n",
    "get_model_res(y_test , ridge_model.predict(X_test))\n",
    "\n",
    "print(\"\\n\\n\\n\")\n",
    "\n"
   ]
  },
  {
   "cell_type": "markdown",
   "metadata": {},
   "source": [
    "## Obvservation\n",
    "- It also has a pretty good score\n",
    "- It has over 90% best fit line with an rmse of 0.1345 which is 0.002 higher than that of lasso\n",
    "\n",
    "\n",
    "-- Try Using SUPPORT VECTOR MACHINE MODELS"
   ]
  },
  {
   "cell_type": "markdown",
   "metadata": {},
   "source": [
    "# 3. Support Vector Regression (SVR) + Cross-Validation"
   ]
  },
  {
   "cell_type": "code",
   "execution_count": 51,
   "metadata": {},
   "outputs": [
    {
     "data": {
      "text/plain": [
       "{'C': 30, 'epsilon': 0.01, 'gamma': 0.0001}"
      ]
     },
     "execution_count": 51,
     "metadata": {},
     "output_type": "execute_result"
    }
   ],
   "source": [
    "kfolds = KFold(shuffle=True, random_state=SEED, n_splits=7)\n",
    "X_train_scale = cscaler.fit_normalizer(X_train)\n",
    "X_test_scale = cscaler.fit_normalizer(X_test)\n",
    "\n",
    "# here we are going to tune parameters to get the best\n",
    "params = {'C':[20, 30], 'gamma': [1e-4, 3e-4, 5e-4 , 1e-3],'epsilon':[0.1, 0.01, 0.05 ,0.005 ]}\n",
    "svr_model = SVR(kernel='rbf')\n",
    "# fit the grid search model\n",
    "clf = GridSearchCV(svr_model, params, cv=kfolds)\n",
    "clf.fit(X_train_scale,y_train)\n",
    "\n",
    "# get the best params\n",
    "clf.best_params_"
   ]
  },
  {
   "cell_type": "code",
   "execution_count": 52,
   "metadata": {},
   "outputs": [
    {
     "name": "stdout",
     "output_type": "stream",
     "text": [
      "SVR Regression RESULTS ...\n",
      "*****Here are the results of the model****\n",
      "\n",
      "MSE score is  0.04747658233334218\n",
      "RMSE Score is  0.21789121674207562\n",
      "R_squared score is  0.7418476959606586\n"
     ]
    }
   ],
   "source": [
    "# use the tuned parameters to train SVR model\n",
    "svr_tuned = SVR(kernel ='rbf', **clf.best_params_)\n",
    "svr_tuned.fit(X_train_scale,y_train)\n",
    "\n",
    "print('SVR Regression RESULTS ...')\n",
    "get_model_res(y_test , svr_tuned.predict(X_test_scale))\n",
    "\n"
   ]
  },
  {
   "cell_type": "markdown",
   "metadata": {},
   "source": [
    "## Observation \n",
    "- SVR almost perfomed same as RIDGE model\n",
    "- About 64.5% best fit line with RMSE of about 0.2554"
   ]
  },
  {
   "cell_type": "markdown",
   "metadata": {},
   "source": [
    "#### Since we have tried out Linear Models like Lasso and Ridge and a SVM one which is SVR\n",
    "- Lets now Try boosting models ,tree or neural networks\n",
    "    This models include\n",
    "        - XGBRegressor\n",
    "        - RandomForestRegressor\n",
    "        - Dense Neural Network\n",
    "\n",
    "## 4. XGBRegssor"
   ]
  },
  {
   "cell_type": "code",
   "execution_count": 53,
   "metadata": {},
   "outputs": [
    {
     "name": "stdout",
     "output_type": "stream",
     "text": [
      "\n",
      "\n",
      "Mean Absolute Error using XGBoost:  0.19277484648651066\n",
      "\n",
      "\n",
      "*****Here are the results of the model****\n",
      "\n",
      "MSE score is  0.0608677053678412\n",
      "RMSE Score is  0.24671381268149783\n",
      "R_squared score is  0.6690339192494725\n"
     ]
    }
   ],
   "source": [
    "## making predictions using the XGBoost algorithm \n",
    "\n",
    "xg_model = XGBRegressor(n_estimators=1500 , random_state = SEED)\n",
    "xg_model.fit(X_train, y_train)\n",
    "xgb_preds = xg_model.predict(X_test)\n",
    "print(\"\\n\")\n",
    "print(\"Mean Absolute Error using XGBoost: \", mean_absolute_error(y_test, xgb_preds))\n",
    "print(\"\\n\")\n",
    "# get results\n",
    "get_model_res(y_test , xgb_preds)\n",
    "\n"
   ]
  },
  {
   "cell_type": "markdown",
   "metadata": {},
   "source": [
    "## Observations\n",
    "- With no any tuning parameters we are able to get best line as 66%\n",
    "- It has RMSE of about 0.24\n",
    "\n",
    "\n",
    "### 5. RandomForest Regressor"
   ]
  },
  {
   "cell_type": "code",
   "execution_count": 54,
   "metadata": {},
   "outputs": [
    {
     "name": "stdout",
     "output_type": "stream",
     "text": [
      "Mean Absolute Error using Random Forest: 0.23603894045687077\n",
      "\n",
      "\n",
      "*****Here are the results of the model****\n",
      "\n",
      "MSE score is  0.07827156300699377\n",
      "RMSE Score is  0.2797705542171902\n",
      "R_squared score is  0.5744010344058501\n"
     ]
    }
   ],
   "source": [
    "## making predictions using the Random Forest algorithm \n",
    "\n",
    "forest_model = RandomForestRegressor(n_estimators=1500 , random_state=SEED)\n",
    "forest_model.fit(cscaler.fit_normalizer(X_train), y_train)\n",
    "ran_preds = forest_model.predict(cscaler.fit_normalizer(X_test))\n",
    "print(\"Mean Absolute Error using Random Forest:\", mean_absolute_error(y_test, ran_preds))\n",
    "\n",
    "print(\"\\n\")\n",
    "\n",
    "    \n",
    "get_model_res(y_test , ran_preds)"
   ]
  },
  {
   "cell_type": "markdown",
   "metadata": {},
   "source": [
    "### Observation\n",
    "\n",
    "- Random Forest Does not perfom well like other models\n",
    "- It had RMSE of over 0.28 and lower line fittness of about 57%\n",
    "\n",
    "\n",
    "\n",
    "### 7 . Dense Neural Network\n",
    "- We are just going to create a simple architecture\n",
    "- We will use few number of epochs"
   ]
  },
  {
   "cell_type": "code",
   "execution_count": null,
   "metadata": {},
   "outputs": [],
   "source": []
  },
  {
   "cell_type": "code",
   "execution_count": 55,
   "metadata": {},
   "outputs": [],
   "source": [
    "# function for R2_squared keras\n",
    "from keras import backend as K\n",
    "def R2(y_true, y_pred):\n",
    "    SS_res =  K.sum(K.square( y_true-y_pred ))\n",
    "    SS_tot = K.sum(K.square( y_true - K.mean(y_true) ) )\n",
    "    return ( 1 - SS_res/(SS_tot + K.epsilon()) )"
   ]
  },
  {
   "cell_type": "code",
   "execution_count": 56,
   "metadata": {},
   "outputs": [],
   "source": [
    "dense_model = Sequential()\n",
    "dense_model.add(Dense(256, activation=\"relu\", input_dim = X_train.shape[1]))\n",
    "dense_model.add(Dense(128 , activation='relu'))\n",
    "dense_model.add(Dense(64 , activation='relu'))\n",
    "dense_model.add(Dense(64 , activation='relu'))\n",
    "dense_model.add(Dense(1 , activation='relu'))"
   ]
  },
  {
   "cell_type": "code",
   "execution_count": 57,
   "metadata": {},
   "outputs": [
    {
     "name": "stdout",
     "output_type": "stream",
     "text": [
      "Model: \"sequential\"\n",
      "_________________________________________________________________\n",
      "Layer (type)                 Output Shape              Param #   \n",
      "=================================================================\n",
      "dense (Dense)                (None, 256)               65280     \n",
      "_________________________________________________________________\n",
      "dense_1 (Dense)              (None, 128)               32896     \n",
      "_________________________________________________________________\n",
      "dense_2 (Dense)              (None, 64)                8256      \n",
      "_________________________________________________________________\n",
      "dense_3 (Dense)              (None, 64)                4160      \n",
      "_________________________________________________________________\n",
      "dense_4 (Dense)              (None, 1)                 65        \n",
      "=================================================================\n",
      "Total params: 110,657\n",
      "Trainable params: 110,657\n",
      "Non-trainable params: 0\n",
      "_________________________________________________________________\n"
     ]
    }
   ],
   "source": [
    "# check model architecture\n",
    "dense_model.summary()"
   ]
  },
  {
   "cell_type": "code",
   "execution_count": 58,
   "metadata": {},
   "outputs": [],
   "source": [
    "# train the model\n",
    "# deep learning models perfoms well on scalled data\n",
    "# we need to scaler the data first\n",
    "X_tr , y_tr= cscaler.fit_normalizer(X_train) , y_train\n",
    "X_val , y_val = cscaler.fit_normalizer(X_test) , y_test"
   ]
  },
  {
   "cell_type": "code",
   "execution_count": 59,
   "metadata": {},
   "outputs": [
    {
     "name": "stdout",
     "output_type": "stream",
     "text": [
      "***** Started Compiling model and optimization...................\n",
      "Begin training ......\n",
      "Epoch 1/40\n",
      "36/36 [==============================] - 26s 42ms/step - loss: 129.8287 - R2: -998.2145 - val_loss: 82.7918 - val_R2: -532.6428\n",
      "Epoch 2/40\n",
      "36/36 [==============================] - 0s 9ms/step - loss: 32.4724 - R2: -231.6358 - val_loss: 4.9474 - val_R2: -30.3400\n",
      "Epoch 3/40\n",
      "36/36 [==============================] - 0s 8ms/step - loss: 0.9570 - R2: -5.9398 - val_loss: 8.5998 - val_R2: -53.8757\n",
      "Epoch 4/40\n",
      "36/36 [==============================] - 0s 7ms/step - loss: 0.7214 - R2: -3.8808 - val_loss: 9.1822 - val_R2: -57.6304\n",
      "Epoch 5/40\n",
      "36/36 [==============================] - 0s 8ms/step - loss: 0.6053 - R2: -3.6202 - val_loss: 8.9872 - val_R2: -56.3766\n",
      "Epoch 6/40\n",
      "36/36 [==============================] - 0s 7ms/step - loss: 0.5527 - R2: -3.1547 - val_loss: 8.8883 - val_R2: -55.7391\n",
      "Epoch 7/40\n",
      "36/36 [==============================] - 0s 9ms/step - loss: 0.5512 - R2: -3.5001 - val_loss: 9.0102 - val_R2: -56.5251\n",
      "Epoch 8/40\n",
      "36/36 [==============================] - 0s 7ms/step - loss: 0.5049 - R2: -2.5700 - val_loss: 8.9754 - val_R2: -56.3010\n",
      "Epoch 9/40\n",
      "36/36 [==============================] - 0s 8ms/step - loss: 0.4933 - R2: -2.4577 - val_loss: 8.7955 - val_R2: -55.1417\n",
      "Epoch 10/40\n",
      "36/36 [==============================] - 0s 8ms/step - loss: 0.5188 - R2: -3.0803 - val_loss: 8.7815 - val_R2: -55.0514\n",
      "Epoch 11/40\n",
      "36/36 [==============================] - 0s 8ms/step - loss: 0.4486 - R2: -2.1324 - val_loss: 8.8967 - val_R2: -55.7924\n",
      "Epoch 12/40\n",
      "36/36 [==============================] - 0s 8ms/step - loss: 0.4448 - R2: -2.1015 - val_loss: 8.9427 - val_R2: -56.0889\n",
      "Epoch 13/40\n",
      "36/36 [==============================] - 0s 8ms/step - loss: 0.4512 - R2: -2.4745 - val_loss: 9.0244 - val_R2: -56.6147\n",
      "Epoch 14/40\n",
      "36/36 [==============================] - 0s 9ms/step - loss: 0.4503 - R2: -2.0486 - val_loss: 8.7039 - val_R2: -54.5510\n",
      "Epoch 15/40\n",
      "36/36 [==============================] - 0s 7ms/step - loss: 0.4149 - R2: -1.8954 - val_loss: 8.7080 - val_R2: -54.5765\n",
      "Epoch 16/40\n",
      "36/36 [==============================] - 0s 7ms/step - loss: 0.3772 - R2: -1.9062 - val_loss: 8.9160 - val_R2: -55.9147\n",
      "Epoch 17/40\n",
      "36/36 [==============================] - 0s 7ms/step - loss: 0.4124 - R2: -1.8306 - val_loss: 8.8534 - val_R2: -55.5108\n",
      "Epoch 18/40\n",
      "36/36 [==============================] - 0s 7ms/step - loss: 0.3921 - R2: -1.9810 - val_loss: 8.6911 - val_R2: -54.4668\n",
      "Epoch 19/40\n",
      "36/36 [==============================] - 0s 8ms/step - loss: 0.3607 - R2: -1.6363 - val_loss: 8.7894 - val_R2: -55.0988\n",
      "Epoch 20/40\n",
      "36/36 [==============================] - 0s 8ms/step - loss: 0.3721 - R2: -2.0190 - val_loss: 8.7377 - val_R2: -54.7674\n",
      "Epoch 21/40\n",
      "36/36 [==============================] - 0s 8ms/step - loss: 0.3545 - R2: -1.6626 - val_loss: 8.7134 - val_R2: -54.6103\n",
      "Epoch 22/40\n",
      "36/36 [==============================] - 0s 8ms/step - loss: 0.3731 - R2: -1.3634 - val_loss: 8.6214 - val_R2: -54.0191\n",
      "Epoch 23/40\n",
      "36/36 [==============================] - 0s 8ms/step - loss: 0.3368 - R2: -1.3572 - val_loss: 8.7967 - val_R2: -55.1476\n",
      "Epoch 24/40\n",
      "36/36 [==============================] - 0s 8ms/step - loss: 0.3283 - R2: -1.4903 - val_loss: 8.6055 - val_R2: -53.9176\n",
      "Epoch 25/40\n",
      "36/36 [==============================] - 0s 8ms/step - loss: 0.3521 - R2: -1.3280 - val_loss: 8.8244 - val_R2: -55.3264\n",
      "Epoch 26/40\n",
      "36/36 [==============================] - 0s 7ms/step - loss: 0.3143 - R2: -1.2389 - val_loss: 8.7559 - val_R2: -54.8865\n",
      "Epoch 27/40\n",
      "36/36 [==============================] - 0s 9ms/step - loss: 0.3103 - R2: -1.1951 - val_loss: 8.9971 - val_R2: -56.4395\n",
      "Epoch 28/40\n",
      "36/36 [==============================] - 0s 8ms/step - loss: 0.3335 - R2: -1.1775 - val_loss: 8.8497 - val_R2: -55.4925\n",
      "Epoch 29/40\n",
      "36/36 [==============================] - 0s 7ms/step - loss: 0.3153 - R2: -1.2527 - val_loss: 8.6635 - val_R2: -54.2959\n",
      "Epoch 30/40\n",
      "36/36 [==============================] - 0s 7ms/step - loss: 0.2954 - R2: -1.1173 - val_loss: 8.7876 - val_R2: -55.0956\n",
      "Epoch 31/40\n",
      "36/36 [==============================] - 0s 8ms/step - loss: 0.2993 - R2: -0.9915 - val_loss: 8.7140 - val_R2: -54.6229\n",
      "Epoch 32/40\n",
      "36/36 [==============================] - 0s 7ms/step - loss: 0.2694 - R2: -0.9640 - val_loss: 8.6858 - val_R2: -54.4430\n",
      "Epoch 33/40\n",
      "36/36 [==============================] - 0s 9ms/step - loss: 0.3133 - R2: -1.2722 - val_loss: 8.7566 - val_R2: -54.9000\n",
      "Epoch 34/40\n",
      "36/36 [==============================] - 0s 8ms/step - loss: 0.2650 - R2: -1.0449 - val_loss: 8.6600 - val_R2: -54.2805\n",
      "Epoch 35/40\n",
      "36/36 [==============================] - 0s 8ms/step - loss: 0.2620 - R2: -1.0126 - val_loss: 8.6107 - val_R2: -53.9649\n",
      "Epoch 36/40\n",
      "36/36 [==============================] - 0s 8ms/step - loss: 0.2756 - R2: -0.9215 - val_loss: 8.9223 - val_R2: -55.9720\n",
      "Epoch 37/40\n",
      "36/36 [==============================] - 0s 8ms/step - loss: 0.2599 - R2: -0.9647 - val_loss: 8.6976 - val_R2: -54.5278\n",
      "Epoch 38/40\n",
      "36/36 [==============================] - 0s 8ms/step - loss: 0.2469 - R2: -0.7055 - val_loss: 8.7915 - val_R2: -55.1336\n",
      "Epoch 39/40\n",
      "36/36 [==============================] - 0s 8ms/step - loss: 0.2492 - R2: -0.7444 - val_loss: 8.5910 - val_R2: -53.8456\n",
      "Epoch 40/40\n",
      "36/36 [==============================] - 0s 7ms/step - loss: 0.2530 - R2: -0.8374 - val_loss: 8.7352 - val_R2: -54.7744\n"
     ]
    }
   ],
   "source": [
    "# the baseline model is going to be done with a small number of epochs\n",
    "# compile \n",
    "LR = 1e-5\n",
    "epochs = 40\n",
    "batch =32\n",
    "\n",
    "from sklearn.metrics import r2_score\n",
    "from tensorflow.keras.optimizers import SGD\n",
    "optimizer = SGD(decay=0.0001,lr=LR , momentum=0.9)\n",
    "# set early stopping\n",
    "\n",
    "print(\"***** Started Compiling model and optimization...................\")\n",
    "dense_model.compile(\n",
    "    loss=\"mse\", \n",
    "    optimizer=optimizer ,\n",
    "    metrics=[R2]\n",
    ")\n",
    "\n",
    "# train \n",
    "print(\"Begin training ......\")\n",
    "history= dense_model.fit(X_tr, y_tr, batch_size=batch,\n",
    "                    steps_per_epoch=len(X_tr)//batch,\n",
    "                    validation_data=(X_val, y_val),\n",
    "                    validation_steps=len(X_val) // batch,\n",
    "                    epochs=epochs,\n",
    "                      )"
   ]
  },
  {
   "cell_type": "code",
   "execution_count": 60,
   "metadata": {},
   "outputs": [],
   "source": [
    "def create_review_plots(history , Question):    \n",
    "    fig, axes = plt.subplots(1, 2, figsize=(15,5))\n",
    "    plt.title(f\"\\t\\t***********{Question} Evaluation Plots *************\")\n",
    "    axes[0].plot(history.history['R2'] , label =\"trainning r2\" )\n",
    "    axes[0].plot(history.history['val_R2'], label = \"validation r2\")\n",
    "    axes[0].set_xlabel('Epochs')\n",
    "    axes[0].set_ylabel('r2_score')\n",
    "    axes[0].legend(['r2_score Train','r2_score Test'])\n",
    "    axes[0].grid(True)\n",
    "\n",
    "    axes[1].plot(history.history['loss'] , label=\"trainning loss\")\n",
    "    axes[1].plot(history.history['val_loss'] , label=\"validation loss\")\n",
    "    axes[1].set_xlabel('Epochs')\n",
    "    axes[1].set_ylabel('Error')\n",
    "    axes[1].legend(['Error Train','Error Test'])\n",
    "    axes[1].grid(True)\n",
    "    #axes[1].set_ylim([0 , None])\n",
    "    #axes[0].set_ylim([0 , None])\n",
    "    axes[1].set_title(f\"{Question} Model Loss Evaluation \" , c ='red' , fontsize =15)\n",
    "    axes[0].set_title(f\"{Question} Model R2 Evaluation \" , c ='red' , fontsize =15)"
   ]
  },
  {
   "cell_type": "code",
   "execution_count": 61,
   "metadata": {},
   "outputs": [
    {
     "data": {
      "image/png": "[encoded data removed]",
      "text/plain": [
       "<Figure size 1080x360 with 2 Axes>"
      ]
     },
     "metadata": {
      "needs_background": "light"
     },
     "output_type": "display_data"
    }
   ],
   "source": [
    "create_review_plots(history , \"Dense Net\")"
   ]
  },
  {
   "cell_type": "code",
   "execution_count": 62,
   "metadata": {},
   "outputs": [
    {
     "name": "stdout",
     "output_type": "stream",
     "text": [
      "The model R2 score is  -46.4713\n",
      "\n",
      "\n",
      "*****Here are the results of the model****\n",
      "\n",
      "MSE score is  8.730414534385165\n",
      "RMSE Score is  2.954727489022493\n",
      "R_squared score is  -46.471332528653534\n"
     ]
    }
   ],
   "source": [
    "# get the model results\n",
    "print(f\"The model R2 score is  {np.round(r2_score(y_test ,  dense_model.predict(X_val)) ,4)}\")\n",
    "\n",
    "print(\"\\n\")\n",
    "get_model_res(y_test ,dense_model.predict(X_val) )\n"
   ]
  },
  {
   "cell_type": "markdown",
   "metadata": {},
   "source": [
    "## Observation\n",
    "- From the dense Net model made , It seems to perfom very bad\n",
    "- It has r2 values which are very high\n",
    "- Its RMSE is also very big\n",
    "- The perfomance maybe due to low amount of data available\n",
    "\n",
    "\n",
    "- Lets try  DecisionTreeRegressor\n",
    "\n",
    "\n",
    "## 8. DecisionTreeRegressor"
   ]
  },
  {
   "cell_type": "code",
   "execution_count": 63,
   "metadata": {},
   "outputs": [
    {
     "name": "stdout",
     "output_type": "stream",
     "text": [
      "Mean Absolute Error using Decision Tress : 0.2756030181341429\n",
      "\n",
      "\n",
      "*****Here are the results of the model****\n",
      "\n",
      "MSE score is  0.12674959251730644\n",
      "RMSE Score is  0.3560190901023517\n",
      "R_squared score is  0.3108033953528493\n"
     ]
    }
   ],
   "source": [
    "## making predictions using the Decision Tree algorithm \n",
    "\n",
    "decision_model = DecisionTreeRegressor()  \n",
    "decision_model.fit(cscaler.fit_normalizer(X_train), y_train) \n",
    "dec_preds = decision_model.predict(cscaler.fit_normalizer(X_test))\n",
    "print (\"Mean Absolute Error using Decision Tress :\", mean_absolute_error(y_test, dec_preds))\n",
    "\n",
    "# get results\n",
    "print(\"\\n\")\n",
    "get_model_res(y_test , dec_preds)"
   ]
  },
  {
   "cell_type": "markdown",
   "metadata": {},
   "source": [
    "#### Observation\n",
    "\n",
    "- Decison tree has poor score also\n",
    "\n",
    "### Conclusins\n",
    "\n",
    "- Below is a summarized score for all models"
   ]
  },
  {
   "cell_type": "code",
   "execution_count": 64,
   "metadata": {},
   "outputs": [],
   "source": [
    "custom = model_custom_ridge.predict(cscaler.fit_normalizer(X_test))\n",
    "dm = dense_model.predict(X_val)\n",
    "lm = lasso_tuned_model.predict(X_test)\n",
    "sv = svr_tuned.predict(X_test_scale)\n",
    "rd = ridge_model.predict(X_test)\n",
    "xgb = xg_model.predict(X_test)\n",
    "forest = forest_model.predict(cscaler.fit_normalizer(X_test))\n",
    "dec = decision_model.predict(cscaler.fit_normalizer(X_test))\n",
    "                           \n",
    "                           \n",
    "indexes = [\"CUSTOM\" ,\"Neural Net\" ,\"Lasso tuned\" , \"svr tuned\" , \"ridge\" , \"XGB\" , \"Random forest\" , \"Decision tree\"]\n",
    "res_cols = [\"R_squared_score\" , \"RMSE\"]\n",
    "r2_values = [\n",
    "    r2_score(y_test , custom),\n",
    "    r2_score(y_test ,dm),\n",
    "    r2_score(y_test ,lm),\n",
    "    r2_score(y_test ,sv),\n",
    "    r2_score(y_test ,rd),\n",
    "    r2_score(y_test ,xgb),\n",
    "    r2_score(y_test ,forest),\n",
    "    r2_score(y_test ,dec),\n",
    "]\n",
    "\n",
    "rmse_vals = [\n",
    "    rmse(y_test , custom),\n",
    "    rmse(y_test ,dm),\n",
    "    rmse(y_test ,lm),\n",
    "    rmse(y_test ,sv),\n",
    "    rmse(y_test ,rd),\n",
    "    rmse(y_test ,xgb),\n",
    "    rmse(y_test ,forest),\n",
    "    rmse(y_test ,dec),\n",
    "]\n",
    "\n",
    "\n",
    "res = pd.DataFrame()\n",
    "\n",
    "res['R_squared_score'] = r2_values\n",
    "res['RMSE'] = rmse_vals\n",
    "res.index = indexes"
   ]
  },
  {
   "cell_type": "code",
   "execution_count": 65,
   "metadata": {},
   "outputs": [
    {
     "data": {
      "text/html": [
       "<div>\n",
       "<style scoped>\n",
       "    .dataframe tbody tr th:only-of-type {\n",
       "        vertical-align: middle;\n",
       "    }\n",
       "\n",
       "    .dataframe tbody tr th {\n",
       "        vertical-align: top;\n",
       "    }\n",
       "\n",
       "    .dataframe thead th {\n",
       "        text-align: right;\n",
       "    }\n",
       "</style>\n",
       "<table border=\"1\" class=\"dataframe\">\n",
       "  <thead>\n",
       "    <tr style=\"text-align: right;\">\n",
       "      <th></th>\n",
       "      <th>R_squared_score</th>\n",
       "      <th>RMSE</th>\n",
       "    </tr>\n",
       "  </thead>\n",
       "  <tbody>\n",
       "    <tr>\n",
       "      <th>CUSTOM</th>\n",
       "      <td>0.862590</td>\n",
       "      <td>0.158968</td>\n",
       "    </tr>\n",
       "    <tr>\n",
       "      <th>Neural Net</th>\n",
       "      <td>-46.471333</td>\n",
       "      <td>2.954727</td>\n",
       "    </tr>\n",
       "    <tr>\n",
       "      <th>Lasso tuned</th>\n",
       "      <td>0.900000</td>\n",
       "      <td>0.135613</td>\n",
       "    </tr>\n",
       "    <tr>\n",
       "      <th>svr tuned</th>\n",
       "      <td>0.741848</td>\n",
       "      <td>0.217891</td>\n",
       "    </tr>\n",
       "    <tr>\n",
       "      <th>ridge</th>\n",
       "      <td>0.900302</td>\n",
       "      <td>0.135408</td>\n",
       "    </tr>\n",
       "    <tr>\n",
       "      <th>XGB</th>\n",
       "      <td>0.669034</td>\n",
       "      <td>0.246714</td>\n",
       "    </tr>\n",
       "    <tr>\n",
       "      <th>Random forest</th>\n",
       "      <td>0.574401</td>\n",
       "      <td>0.279771</td>\n",
       "    </tr>\n",
       "    <tr>\n",
       "      <th>Decision tree</th>\n",
       "      <td>0.310803</td>\n",
       "      <td>0.356019</td>\n",
       "    </tr>\n",
       "  </tbody>\n",
       "</table>\n",
       "</div>"
      ],
      "text/plain": [
       "               R_squared_score      RMSE\n",
       "CUSTOM                0.862590  0.158968\n",
       "Neural Net          -46.471333  2.954727\n",
       "Lasso tuned           0.900000  0.135613\n",
       "svr tuned             0.741848  0.217891\n",
       "ridge                 0.900302  0.135408\n",
       "XGB                   0.669034  0.246714\n",
       "Random forest         0.574401  0.279771\n",
       "Decision tree         0.310803  0.356019"
      ]
     },
     "execution_count": 65,
     "metadata": {},
     "output_type": "execute_result"
    }
   ],
   "source": [
    "# check results\n",
    "res"
   ]
  },
  {
   "cell_type": "markdown",
   "metadata": {},
   "source": [
    "### \n",
    "- Since R_squared is the score we are mainly focusing on lets sort the results to get the top three models\n"
   ]
  },
  {
   "cell_type": "code",
   "execution_count": 66,
   "metadata": {},
   "outputs": [
    {
     "data": {
      "text/html": [
       "<div>\n",
       "<style scoped>\n",
       "    .dataframe tbody tr th:only-of-type {\n",
       "        vertical-align: middle;\n",
       "    }\n",
       "\n",
       "    .dataframe tbody tr th {\n",
       "        vertical-align: top;\n",
       "    }\n",
       "\n",
       "    .dataframe thead th {\n",
       "        text-align: right;\n",
       "    }\n",
       "</style>\n",
       "<table border=\"1\" class=\"dataframe\">\n",
       "  <thead>\n",
       "    <tr style=\"text-align: right;\">\n",
       "      <th></th>\n",
       "      <th>R_squared_score</th>\n",
       "      <th>RMSE</th>\n",
       "    </tr>\n",
       "  </thead>\n",
       "  <tbody>\n",
       "    <tr>\n",
       "      <th>ridge</th>\n",
       "      <td>0.900302</td>\n",
       "      <td>0.135408</td>\n",
       "    </tr>\n",
       "    <tr>\n",
       "      <th>Lasso tuned</th>\n",
       "      <td>0.900000</td>\n",
       "      <td>0.135613</td>\n",
       "    </tr>\n",
       "    <tr>\n",
       "      <th>CUSTOM</th>\n",
       "      <td>0.862590</td>\n",
       "      <td>0.158968</td>\n",
       "    </tr>\n",
       "    <tr>\n",
       "      <th>svr tuned</th>\n",
       "      <td>0.741848</td>\n",
       "      <td>0.217891</td>\n",
       "    </tr>\n",
       "    <tr>\n",
       "      <th>XGB</th>\n",
       "      <td>0.669034</td>\n",
       "      <td>0.246714</td>\n",
       "    </tr>\n",
       "    <tr>\n",
       "      <th>Random forest</th>\n",
       "      <td>0.574401</td>\n",
       "      <td>0.279771</td>\n",
       "    </tr>\n",
       "    <tr>\n",
       "      <th>Decision tree</th>\n",
       "      <td>0.310803</td>\n",
       "      <td>0.356019</td>\n",
       "    </tr>\n",
       "    <tr>\n",
       "      <th>Neural Net</th>\n",
       "      <td>-46.471333</td>\n",
       "      <td>2.954727</td>\n",
       "    </tr>\n",
       "  </tbody>\n",
       "</table>\n",
       "</div>"
      ],
      "text/plain": [
       "               R_squared_score      RMSE\n",
       "ridge                 0.900302  0.135408\n",
       "Lasso tuned           0.900000  0.135613\n",
       "CUSTOM                0.862590  0.158968\n",
       "svr tuned             0.741848  0.217891\n",
       "XGB                   0.669034  0.246714\n",
       "Random forest         0.574401  0.279771\n",
       "Decision tree         0.310803  0.356019\n",
       "Neural Net          -46.471333  2.954727"
      ]
     },
     "execution_count": 66,
     "metadata": {},
     "output_type": "execute_result"
    }
   ],
   "source": [
    "res.sort_values(by ='R_squared_score' , ascending = False)"
   ]
  },
  {
   "cell_type": "markdown",
   "metadata": {},
   "source": [
    "### Observation\n",
    "- The best three models were\n",
    "      - Lasso Model\n",
    "      -  RIDGE\n",
    "      - CUSTOM RIDGE MODEL IS BEST\n",
    "      \n",
    "### Lets plot the RESIDUAL plots for the same three models and Predictions  plots"
   ]
  },
  {
   "cell_type": "code",
   "execution_count": 67,
   "metadata": {},
   "outputs": [],
   "source": [
    "def plot_residual_and_preds(model , name):\n",
    "    if name == \"SVR\":\n",
    "        print(\"SVR\")\n",
    "        y_train_preds = model.predict(cscaler.fit_normalizer(X_train))\n",
    "        y_test_preds = model.predict(X_test_scale)\n",
    "    elif name == \"CUSTOM RIDGE MODEL\":\n",
    "        y_train_preds = model.predict(cscaler.fit_normalizer(X_train))\n",
    "        y_test_preds = model.predict(cscaler.fit_normalizer(X_test))\n",
    "    else:\n",
    "        y_train_preds = model.predict(X_train)\n",
    "        y_test_preds = model.predict(X_test)    \n",
    "    fig, axes = plt.subplots(1, 2, figsize=(18,8))\n",
    "    \n",
    "    plt.title(f\"\\t\\t***********Residual Evaluation Plots *************\")\n",
    "    axes[0].scatter(y_train_preds, y_train_preds - y_train, c = \"blue\", marker = \"s\", label = \"Training data\")\n",
    "    axes[0].scatter(y_test_preds, y_test_preds - y_test, c = \"lightgreen\", marker = \"s\", label = \"Validation data\")   \n",
    "    axes[0].set_title(f\"{name} Model Residual Plots\")\n",
    "    axes[0].set_xlabel(\"Predicted values\")\n",
    "    axes[0].set_ylabel(\"Residuals\")\n",
    "    axes[0].legend(loc = \"best\")\n",
    "    axes[0].hlines(y = 0, xmin = 10.5, xmax = 13.5, color = \"red\")\n",
    "\n",
    "    # Plot predictions\n",
    "    plt.scatter(y_train, y_train_preds, c = \"blue\", marker = \"s\", label = \"Training data\")\n",
    "    plt.scatter(y_test, y_test_preds, c = \"lightgreen\", marker = \"s\", label = \"Validation data\")\n",
    "    plt.title(f\"{name} Regression plot\")\n",
    "    plt.xlabel(\"Predicted values\")\n",
    "    plt.ylabel(\"Real values\")\n",
    "    plt.legend(loc = \"best\")\n",
    "    plt.plot([10.5, 13.5], [10.5, 13.5], c = \"red\")\n",
    "    "
   ]
  },
  {
   "cell_type": "code",
   "execution_count": 68,
   "metadata": {},
   "outputs": [
    {
     "data": {
      "image/png": "[encoded data removed]",
      "text/plain": [
       "<Figure size 1296x576 with 2 Axes>"
      ]
     },
     "metadata": {
      "needs_background": "light"
     },
     "output_type": "display_data"
    }
   ],
   "source": [
    "#plot for CUSTOM RIDGE model\n",
    "plot_residual_and_preds(model_custom_ridge , \"CUSTOM RIDGE MODEL\")"
   ]
  },
  {
   "cell_type": "code",
   "execution_count": 69,
   "metadata": {},
   "outputs": [
    {
     "data": {
      "image/png": "[encoded data removed]",
      "text/plain": [
       "<Figure size 1296x576 with 2 Axes>"
      ]
     },
     "metadata": {
      "needs_background": "light"
     },
     "output_type": "display_data"
    }
   ],
   "source": [
    "#plot for lasso model\n",
    "plot_residual_and_preds(lasso_tuned_model , \"Lasso\")"
   ]
  },
  {
   "cell_type": "code",
   "execution_count": 70,
   "metadata": {},
   "outputs": [
    {
     "name": "stdout",
     "output_type": "stream",
     "text": [
      "SVR\n"
     ]
    },
    {
     "data": {
      "image/png": "[encoded data removed]",
      "text/plain": [
       "<Figure size 1296x576 with 2 Axes>"
      ]
     },
     "metadata": {
      "needs_background": "light"
     },
     "output_type": "display_data"
    }
   ],
   "source": [
    "# plot for svr model\n",
    "plot_residual_and_preds(svr_tuned , \"SVR\")"
   ]
  },
  {
   "cell_type": "code",
   "execution_count": 71,
   "metadata": {},
   "outputs": [
    {
     "data": {
      "image/png": "[encoded data removed]",
      "text/plain": [
       "<Figure size 1296x576 with 2 Axes>"
      ]
     },
     "metadata": {
      "needs_background": "light"
     },
     "output_type": "display_data"
    }
   ],
   "source": [
    "# plot for ridge model\n",
    "plot_residual_and_preds(ridge_model , \"RIDGE\")"
   ]
  },
  {
   "cell_type": "markdown",
   "metadata": {},
   "source": [
    "# THE CUSTOM RIDGE MODEL WAS THE BEST\n",
    "\n",
    "### Observations\n",
    "\n",
    "- From the 3 graphs we can see a better graphs with better results for both predictions and test sets\n",
    "- Lets Analyse features that were used by LASSO model"
   ]
  },
  {
   "cell_type": "code",
   "execution_count": 72,
   "metadata": {},
   "outputs": [
    {
     "name": "stdout",
     "output_type": "stream",
     "text": [
      "\n",
      "Total Features subjected to the model are  254\n",
      "Total Features used for model creation(non zero features )  116\n",
      "Total Unused features (Regulated Features )  are 138\n"
     ]
    }
   ],
   "source": [
    "\n",
    "total_features =  len(lasso_tuned_model.coef_)\n",
    "total_non_zero = len(lasso_tuned_model.coef_.nonzero()[0])\n",
    "print()\n",
    "print(f\"Total Features subjected to the model are  {total_features}\")\n",
    "print(f\"Total Features used for model creation(non zero features )  {total_non_zero}\")\n",
    "print(f\"Total Unused features (Regulated Features )  are {total_features - total_non_zero}\")"
   ]
  },
  {
   "cell_type": "code",
   "execution_count": 73,
   "metadata": {},
   "outputs": [
    {
     "data": {
      "image/png": "[encoded data removed]",
      "text/plain": [
       "<Figure size 864x648 with 1 Axes>"
      ]
     },
     "metadata": {
      "needs_background": "light"
     },
     "output_type": "display_data"
    }
   ],
   "source": [
    "\n",
    "# Selecting features importance\n",
    "coefs = pd.Series(lasso_tuned_model.coef_, index = X.columns)\n",
    "\n",
    "# select the top 10 features and bootom 10 features\n",
    "\n",
    "lasso_coefs = pd.concat([coefs.sort_values().head(10),\n",
    "                         coefs.sort_values().tail(10)])\n",
    "\n",
    "lasso_coefs = pd.DataFrame(lasso_coefs, columns=['importance'])\n",
    "\n",
    "# create plot\n",
    "fig, ax = plt.subplots(figsize =(12, 9))\n",
    "\n",
    "# plot these fatures\n",
    "ax.barh(lasso_coefs.index, \n",
    "        lasso_coefs.importance, \n",
    "        align='center', \n",
    "        color = np.where(lasso_coefs['importance'] < 0, 'crimson', '#89CFF0'))\n",
    "\n",
    "\n",
    "plt.text(-0.32, 21.5, \"Feature Importance\", size=18, color=\"r\", fontweight=\"bold\");\n",
    "plt.text(-0.093, 21.5, \"Using\", size=18, color=\"r\" , fontweight='bold');\n",
    "plt.text(-0.0182, 21.5, \"Lasso Model\", size=18, color=\"red\", fontweight=\"bold\");\n"
   ]
  },
  {
   "cell_type": "markdown",
   "metadata": {},
   "source": [
    "### Observation\n",
    "- All the features in blue positively affect the sale price of the house, which means this characteristic increases the price of the house. \n",
    "- All the features in red negatively affect the sale price of the house negatively i.e an increase in them reduces prices of house.\n",
    "\n",
    "\n",
    "\n",
    "\n",
    "\n",
    "### WE are able to see that we can used Ridge or Lasso to regulate features and get better models"
   ]
  },
  {
   "cell_type": "code",
   "execution_count": null,
   "metadata": {},
   "outputs": [],
   "source": []
  }
 ],
 "metadata": {
  "kernelspec": {
   "display_name": "Python 3",
   "language": "python",
   "name": "python3"
  },
  "language_info": {
   "codemirror_mode": {
    "name": "ipython",
    "version": 3
   },
   "file_extension": ".py",
   "mimetype": "text/x-python",
   "name": "python",
   "nbconvert_exporter": "python",
   "pygments_lexer": "ipython3",
   "version": "3.8.5"
  }
 },
 "nbformat": 4,
 "nbformat_minor": 4
}
